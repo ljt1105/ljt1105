{
 "cells": [
  {
   "cell_type": "code",
   "execution_count": 4,
   "metadata": {},
   "outputs": [
    {
     "ename": "SyntaxError",
     "evalue": "Missing parentheses in call to 'print'. Did you mean print(\"No new emails to read.\")? (2192585252.py, line 58)",
     "output_type": "error",
     "traceback": [
      "\u001b[1;36m  Cell \u001b[1;32mIn [4], line 58\u001b[1;36m\u001b[0m\n\u001b[1;33m    print \"No new emails to read.\"\u001b[0m\n\u001b[1;37m          ^\u001b[0m\n\u001b[1;31mSyntaxError\u001b[0m\u001b[1;31m:\u001b[0m Missing parentheses in call to 'print'. Did you mean print(\"No new emails to read.\")?\n"
     ]
    }
   ],
   "source": [
    "import email\n",
    "import imaplib\n",
    "import os\n",
    "\n",
    "class FetchEmail():\n",
    "\n",
    "    connection = None\n",
    "    error = None\n",
    "    mail_server=\"host_name\"\n",
    "    username=\"outlook_username\"\n",
    "    password=\"password\"\n",
    "    self.save_attachment(self,msg,download_folder)\n",
    "    def __init__(self, mail_server, username, password):\n",
    "        self.connection = imaplib.IMAP4_SSL(mail_server)\n",
    "        self.connection.login(username, password)\n",
    "        self.connection.select(readonly=False) # so we can mark mails as read\n",
    "\n",
    "    def close_connection(self):\n",
    "        \"\"\"\n",
    "        Close the connection to the IMAP server\n",
    "        \"\"\"\n",
    "        self.connection.close()\n",
    "\n",
    "    def save_attachment(self, msg, download_folder=\"/output1\"):\n",
    "        \"\"\"\n",
    "        Given a message, save its attachments to the specified\n",
    "        download folder (default is /tmp)\n",
    "\n",
    "        return: file path to attachment\n",
    "        \"\"\"\n",
    "        att_path = \"No attachment found.\"\n",
    "        for part in msg.walk():\n",
    "            if part.get_content_maintype() == 'multipart':\n",
    "                continue\n",
    "            if part.get('Content-Disposition') is None:\n",
    "                continue\n",
    "\n",
    "            filename = part.get_filename()\n",
    "            att_path = os.path.join(download_folder, filename)\n",
    "\n",
    "            if not os.path.isfile(att_path):\n",
    "                fp = open(att_path, 'wb')\n",
    "                fp.write(part.get_payload(decode=True))\n",
    "                fp.close()\n",
    "        return att_path\n",
    "\n",
    "    def fetch_unread_messages(self):\n",
    "        \"\"\"\n",
    "        Retrieve unread messages\n",
    "        \"\"\"\n",
    "        emails = []\n",
    "        (result, messages) = self.connection.search(None, 'UnSeen')\n",
    "        if result == \"OK\":\n",
    "            for message in messages[0].split(' '):\n",
    "                try: \n",
    "                    ret, data = self.connection.fetch(message,'(RFC822)')\n",
    "                except:\n",
    "                    print(\"No new emails to read.\")\n",
    "                    self.close_connection()\n",
    "                    exit()\n",
    "\n",
    "                msg = email.message_from_string(data[0][1])\n",
    "                if isinstance(msg, str) == False:\n",
    "                    emails.append(msg)\n",
    "                response, data = self.connection.store(message, '+FLAGS','\\\\Seen')\n",
    "\n",
    "            return emails\n",
    "\n",
    "        self.error = \"Failed to retrieve emails.\"\n",
    "        return emails\n"
   ]
  }
 ],
 "metadata": {
  "kernelspec": {
   "display_name": "Python 3.9.0 32-bit",
   "language": "python",
   "name": "python3"
  },
  "language_info": {
   "codemirror_mode": {
    "name": "ipython",
    "version": 3
   },
   "file_extension": ".py",
   "mimetype": "text/x-python",
   "name": "python",
   "nbconvert_exporter": "python",
   "pygments_lexer": "ipython3",
   "version": "3.9.0"
  },
  "orig_nbformat": 4,
  "vscode": {
   "interpreter": {
    "hash": "8579af7ac4b619c1ff9c21d522b2628fe82b49ca1810dac575e63d57c7a67b1f"
   }
  }
 },
 "nbformat": 4,
 "nbformat_minor": 2
}
