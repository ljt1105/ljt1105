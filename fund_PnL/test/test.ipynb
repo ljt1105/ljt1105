{
 "cells": [
  {
   "cell_type": "code",
   "execution_count": null,
   "metadata": {},
   "outputs": [],
   "source": [
    "import pandas_market_calendars as mcal\n",
    "import datetime\n",
    "\n",
    "korea_calendar = mcal.get_calendar('XKRX')\n",
    "start_date = '2024-01-01'\n",
    "end_date = '2024-05-27'\n",
    "schedule_kr = korea_calendar.schedule(start_date=start_date, end_date=end_date)\n",
    "business_days_kr = schedule_kr.index.date.tolist()\n",
    "\n"
   ]
  },
  {
   "cell_type": "code",
   "execution_count": 16,
   "metadata": {},
   "outputs": [
    {
     "name": "stdout",
     "output_type": "stream",
     "text": [
      "2024-05-29 08:56:33.491627\n",
      "2024\n",
      "2024-01-01\n",
      "(datetime.date(2024, 1, 1), '신정')\n",
      "(datetime.date(2024, 2, 9), '설날 전날')\n",
      "(datetime.date(2024, 2, 10), '설날')\n",
      "(datetime.date(2024, 2, 11), '설날 다음날')\n",
      "(datetime.date(2024, 2, 12), '대체 공휴일(설날)')\n",
      "(datetime.date(2024, 3, 1), '3·1절')\n",
      "(datetime.date(2024, 4, 10), '제22대 국회의원 선거일')\n",
      "(datetime.date(2024, 5, 1), '근로자의 날')\n",
      "(datetime.date(2024, 5, 5), '어린이날')\n",
      "(datetime.date(2024, 5, 6), '대체 공휴일(어린이날)')\n",
      "(datetime.date(2024, 5, 15), '석가탄신일')\n",
      "(datetime.date(2024, 6, 6), '현충일')\n",
      "(datetime.date(2024, 8, 15), '광복절')\n",
      "(datetime.date(2024, 9, 16), '추석 전날')\n",
      "(datetime.date(2024, 9, 17), '추석')\n",
      "(datetime.date(2024, 9, 18), '추석 다음날')\n",
      "(datetime.date(2024, 10, 3), '개천절')\n",
      "(datetime.date(2024, 10, 9), '한글날')\n",
      "(datetime.date(2024, 12, 25), '크리스마스')\n"
     ]
    }
   ],
   "source": [
    "from holidayskr import year_holidays\n",
    "import pandas as pd\n",
    "from datetime import datetime, date\n",
    "import datetime\n",
    "\n",
    "# now = datetime.datetime.today().strftime('%Y-%m-%d')\n",
    "now = datetime.datetime.today()\n",
    "print(now)\n",
    "\n",
    "print(now.year)\n",
    "\n",
    "holiday_list = year_holidays(now.year)\n",
    "\n",
    "print(holiday_list[0][0])\n",
    "\n",
    "for i in holiday_list:\n",
    "    print(i)"
   ]
  }
 ],
 "metadata": {
  "kernelspec": {
   "display_name": "Python 3.9.0 32-bit",
   "language": "python",
   "name": "python3"
  },
  "language_info": {
   "codemirror_mode": {
    "name": "ipython",
    "version": 3
   },
   "file_extension": ".py",
   "mimetype": "text/x-python",
   "name": "python",
   "nbconvert_exporter": "python",
   "pygments_lexer": "ipython3",
   "version": "3.9.0"
  },
  "orig_nbformat": 4,
  "vscode": {
   "interpreter": {
    "hash": "8579af7ac4b619c1ff9c21d522b2628fe82b49ca1810dac575e63d57c7a67b1f"
   }
  }
 },
 "nbformat": 4,
 "nbformat_minor": 2
}
