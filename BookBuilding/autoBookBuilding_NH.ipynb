{
 "cells": [
  {
   "cell_type": "code",
   "execution_count": 1,
   "metadata": {},
   "outputs": [
    {
     "ename": "IndexError",
     "evalue": "list index out of range",
     "output_type": "error",
     "traceback": [
      "\u001b[1;31m---------------------------------------------------------------------------\u001b[0m",
      "\u001b[1;31mIndexError\u001b[0m                                Traceback (most recent call last)",
      "Cell \u001b[1;32mIn [1], line 38\u001b[0m\n\u001b[0;32m     34\u001b[0m driver\u001b[39m.\u001b[39mget(kind_path)\n\u001b[0;32m     37\u001b[0m \u001b[39mif\u001b[39;00m \u001b[39m__name__\u001b[39m \u001b[39m==\u001b[39m \u001b[39m\"\u001b[39m\u001b[39m__main__\u001b[39m\u001b[39m\"\u001b[39m:\n\u001b[1;32m---> 38\u001b[0m     crawling_ipo()\n",
      "Cell \u001b[1;32mIn [1], line 27\u001b[0m, in \u001b[0;36mcrawling_ipo\u001b[1;34m()\u001b[0m\n\u001b[0;32m     24\u001b[0m driver\u001b[39m.\u001b[39mfind_elements(by\u001b[39m=\u001b[39mBy\u001b[39m.\u001b[39mCSS_SELECTOR, value\u001b[39m=\u001b[39m\u001b[39m\"\u001b[39m\u001b[39m#contents > form > div > div.btnWrap1 > div > div > span > a\u001b[39m\u001b[39m\"\u001b[39m)[\u001b[39m0\u001b[39m]\u001b[39m.\u001b[39mclick()\n\u001b[0;32m     26\u001b[0m cell_data \u001b[39m=\u001b[39m driver\u001b[39m.\u001b[39mfind_elements(by\u001b[39m=\u001b[39mBy\u001b[39m.\u001b[39mCSS_SELECTOR, value\u001b[39m=\u001b[39m\u001b[39m'\u001b[39m\u001b[39mbody > section > table:nth-child(3) > tbody > tr.first > td:nth-child(2)\u001b[39m\u001b[39m'\u001b[39m)\n\u001b[1;32m---> 27\u001b[0m corporate_name \u001b[39m=\u001b[39m cell_data[\u001b[39m0\u001b[39;49m]\u001b[39m.\u001b[39mtext\n\u001b[0;32m     28\u001b[0m firm_data \u001b[39m=\u001b[39m \u001b[39mdict\u001b[39m()\n",
      "\u001b[1;31mIndexError\u001b[0m: list index out of range"
     ]
    }
   ],
   "source": [
    "import time\n",
    "from selenium import webdriver as wd  # 셀레니움\n",
    "from selenium.webdriver.common.by import By\n",
    "\n",
    "\n",
    "def crawling_ipo():\n",
    "    page_body = driver.find_elements(by=By.CSS_SELECTOR, value=\"#iflg_body\")\n",
    "    driver.switch_to.frame(page_body[0])\n",
    "    driver.find_elements(by=By.CSS_SELECTOR, value=\"#btn_allMn > span\")[0].click()\n",
    "    driver.find_elements(by=By.CSS_SELECTOR, value=\"#lay_all_mn > dl > dt > a:nth-child(2) > span\")[0].click()\n",
    "    time.sleep(2)\n",
    "    driver.find_elements(by=By.CSS_SELECTOR, value=\"#menu_512\")[1].click()\n",
    "    business_number = driver.find_element(by=By.XPATH, value=\"//*[@id='cust_no']\")\n",
    "    business_number.clear()\n",
    "    business_number.send_keys(2278700979)\n",
    "    time.sleep(2)\n",
    "    account_number = driver.find_element(by=By.XPATH, value=\"//*[@id='accnt_no']\")\n",
    "    account_number.clear()\n",
    "    account_number.send_keys(20701756568)\n",
    "    time.sleep(2)\n",
    "    pw_number = driver.find_element(by=By.XPATH, value=\"//*[@id='act_pwd']\")\n",
    "    pw_number.clear()\n",
    "    pw_number.send_keys(1479)\n",
    "    driver.find_elements(by=By.CSS_SELECTOR, value=\"#contents > form > div > div.btnWrap1 > div > div > span > a\")[0].click()\n",
    "\n",
    "    cell_data = driver.find_elements(by=By.CSS_SELECTOR, value='body > section > table:nth-child(3) > tbody > tr.first > td:nth-child(2)')\n",
    "    corporate_name = cell_data[0].text\n",
    "    firm_data = dict()\n",
    "\n",
    "\n",
    "kind_path = 'https://www.nhqv.com/index.jsp'\n",
    "options = wd.ChromeOptions()\n",
    "driver = wd.Chrome()\n",
    "driver.get(kind_path)\n",
    "\n",
    "\n",
    "if __name__ == \"__main__\":\n",
    "    crawling_ipo()"
   ]
  },
  {
   "cell_type": "code",
   "execution_count": 2,
   "metadata": {},
   "outputs": [],
   "source": [
    "import time\n",
    "from selenium import webdriver as wd  # 셀레니움\n",
    "from selenium.webdriver.common.by import By\n",
    "from selenium.webdriver.support.ui import WebDriverWait\n",
    "from selenium.webdriver.support import expected_conditions as EC\n",
    "from selenium.webdriver.common.alert import Alert\n",
    "\n",
    "def crawling_ipo():\n",
    "    \n",
    "\n",
    "    page_body = driver.find_elements(by=By.CSS_SELECTOR, value=\"#iflg_body\")\n",
    "    driver.switch_to.frame(page_body[0])\n",
    "    driver.find_elements(by=By.CSS_SELECTOR, value=\"#btn_allMn > span\")[0].click()\n",
    "    driver.find_elements(by=By.CSS_SELECTOR, value=\"#lay_all_mn > dl > dt > a:nth-child(2) > span\")[0].click()\n",
    "\n",
    "    time.sleep(1)\n",
    "    driver.find_elements(by=By.CSS_SELECTOR, value=\"#menu_512\")[1].click()\n",
    "    business_number = driver.find_element(by=By.XPATH, value=\"//*[@id='cust_no']\")\n",
    "    business_number.clear()\n",
    "    business_number.send_keys(2278700979)\n",
    "\n",
    "    time.sleep(1)\n",
    "    account_number = driver.find_element(by=By.XPATH, value=\"//*[@id='accnt_no']\")\n",
    "    account_number.clear()\n",
    "    account_number.send_keys(20701756568)\n",
    "    \n",
    "    time.sleep(1)\n",
    "    pw_number = driver.find_element(by=By.XPATH, value=\"//*[@id='act_pwd']\")\n",
    "    pw_number.clear()\n",
    "    pw_number.send_keys(1479)\n",
    "    driver.find_elements(by=By.CSS_SELECTOR, value=\"#contents > form > div > div.btnWrap1 > div > div > span > a\")[0].click()\n",
    "\n",
    "    time.sleep(1)\n",
    "    driver.find_element(by=By.CSS_SELECTOR, value='#contents > div.sub_wrap100.mg_b20 > table.ctb1.mg_b40 > tbody > tr > td.btLine.bdn > a').click()\n",
    "\n",
    "    time.sleep(1)\n",
    "    alert = driver.switch_to.alert\n",
    "    alert.dismiss()\n",
    "\n",
    "    company_name = driver.find_element(by=By.XPATH, value='//*[@id=\"reg_name\"]')\n",
    "    company_name.clear()\n",
    "    company_name.send_keys(\"두나미스자산운용\")\n",
    "\n",
    "\n",
    "kind_path = 'https://www.nhqv.com/index.jsp'\n",
    "options = wd.ChromeOptions()\n",
    "driver = wd.Chrome()\n",
    "driver.get(kind_path)\n",
    "\n",
    "main = driver.window_handles\n",
    "\n",
    "for i in main:\n",
    "    if i != main[0] : \n",
    "        driver.switch_to.window(i)\n",
    "        driver.close()\n",
    "driver.switch_to.window(main[0])\n",
    "\n",
    "\n",
    "if __name__ == \"__main__\":\n",
    "    crawling_ipo()"
   ]
  }
 ],
 "metadata": {
  "kernelspec": {
   "display_name": "Python 3.9.0 32-bit",
   "language": "python",
   "name": "python3"
  },
  "language_info": {
   "codemirror_mode": {
    "name": "ipython",
    "version": 3
   },
   "file_extension": ".py",
   "mimetype": "text/x-python",
   "name": "python",
   "nbconvert_exporter": "python",
   "pygments_lexer": "ipython3",
   "version": "3.9.0"
  },
  "orig_nbformat": 4,
  "vscode": {
   "interpreter": {
    "hash": "8579af7ac4b619c1ff9c21d522b2628fe82b49ca1810dac575e63d57c7a67b1f"
   }
  }
 },
 "nbformat": 4,
 "nbformat_minor": 2
}
