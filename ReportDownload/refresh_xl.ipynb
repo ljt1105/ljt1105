{
 "cells": [
  {
   "cell_type": "code",
   "execution_count": 5,
   "metadata": {},
   "outputs": [],
   "source": [
    "import os\n",
    "import pyxlsb\n",
    "from openpyxl import load_workbook\n"
   ]
  },
  {
   "cell_type": "code",
   "execution_count": 6,
   "metadata": {},
   "outputs": [
    {
     "name": "stdout",
     "output_type": "stream",
     "text": [
      "Error refreshing Power Query in sheet 'new_trade': 'Worksheet' object has no attribute 'QueryTables'\n",
      "Error refreshing Power Query in sheet 'open_position': 'Worksheet' object has no attribute 'QueryTables'\n",
      "Error refreshing Power Query in sheet 'unwind': 'Worksheet' object has no attribute 'QueryTables'\n"
     ]
    }
   ],
   "source": [
    "# 엑셀 파일 경로\n",
    "input_file_path = \"Z:/02.펀드/003.매매보고서 대사/KIS-PBS_스왑매매내역.xlsx\"\n",
    "\n",
    "# 엑셀 파일을 열고 Power Query 새로고침\n",
    "def refresh_power_query(input_file_path):\n",
    "    # 엑셀 파일 불러오기\n",
    "    workbook = load_workbook(filename=input_file_path, data_only=True)\n",
    "\n",
    "    # 모든 시트에 대해 Power Query 새로고침 수행\n",
    "    for sheet_name in workbook.sheetnames:\n",
    "        sheet = workbook[sheet_name]\n",
    "        try:\n",
    "            # .xlsx 파일은 QueryTables 메서드를 사용하여 Power Query 새로고침 가능\n",
    "            sheet.QueryTables(1).Refresh()\n",
    "            print(f\"Power Query in sheet '{sheet_name}' refreshed successfully.\")\n",
    "        except Exception as e:\n",
    "            print(f\"Error refreshing Power Query in sheet '{sheet_name}': {str(e)}\")\n",
    "\n",
    "    # 업데이트된 내용을 저장\n",
    "    workbook.save(input_file_path)\n",
    "\n",
    "# Power Query 새로고침 함수 호출\n",
    "refresh_power_query(input_file_path)"
   ]
  },
  {
   "cell_type": "code",
   "execution_count": 7,
   "metadata": {},
   "outputs": [],
   "source": [
    "import pandas as pd"
   ]
  },
  {
   "cell_type": "code",
   "execution_count": 8,
   "metadata": {},
   "outputs": [
    {
     "name": "stdout",
     "output_type": "stream",
     "text": [
      "Power Query in sheet 'new_trade' refreshed successfully.\n",
      "Error refreshing Power Query in sheet 'open_position': Bad CRC-32 for file 'xl/worksheets/sheet2.xml'\n",
      "Error refreshing Power Query in sheet 'unwind': Bad magic number for file header\n"
     ]
    }
   ],
   "source": [
    "# 엑셀 파일 경로\n",
    "input_file_path = \"Z:/02.펀드/003.매매보고서 대사/KIS-PBS_스왑매매내역.xlsx\"\n",
    "\n",
    "# 엑셀 파일을 읽어서 DataFrame으로 변환\n",
    "xls = pd.ExcelFile(input_file_path)\n",
    "\n",
    "# 모든 시트에 대해 Power Query 새로고침 수행\n",
    "for sheet_name in xls.sheet_names:\n",
    "    try:\n",
    "        # DataFrame으로 시트 읽기\n",
    "        df = pd.read_excel(xls, sheet_name=sheet_name)\n",
    "\n",
    "        # DataFrame을 다시 시트로 저장 (기존 시트 덮어쓰기)\n",
    "        df.to_excel(input_file_path, sheet_name=sheet_name, index=False, engine='openpyxl')\n",
    "\n",
    "        print(f\"Power Query in sheet '{sheet_name}' refreshed successfully.\")\n",
    "    except Exception as e:\n",
    "        print(f\"Error refreshing Power Query in sheet '{sheet_name}': {str(e)}\")"
   ]
  },
  {
   "cell_type": "code",
   "execution_count": 1,
   "metadata": {},
   "outputs": [],
   "source": [
    "import os\n",
    "import win32com.client\n",
    "from openpyxl import load_workbook"
   ]
  },
  {
   "cell_type": "code",
   "execution_count": 3,
   "metadata": {},
   "outputs": [],
   "source": [
    "def refresh_power_query(file_path):\n",
    "    # 엑셀 파일 열기\n",
    "    excel = win32com.client.Dispatch(\"Excel.Application\")\n",
    "    excel.Visible = False\n",
    "    wb = excel.Workbooks.Open(os.path.abspath(file_path))\n",
    "    \n",
    "    # Power Query 새로 고치기\n",
    "    wb.RefreshAll()\n",
    "    \n",
    "    # 저장하고 엑셀 닫기\n",
    "    wb.Save()\n",
    "    wb.Close()\n",
    "    excel.Quit()\n",
    "\n",
    "if __name__ == \"__main__\":\n",
    "    xlsx_file_path = \"Z:/02.펀드/003.매매보고서 대사/KIS-PBS_스왑매매내역.xlsx\"  # 본인의 XLSX 파일 경로로 대체\n",
    "    refresh_power_query(xlsx_file_path)"
   ]
  },
  {
   "cell_type": "code",
   "execution_count": 7,
   "metadata": {},
   "outputs": [
    {
     "ename": "AttributeError",
     "evalue": "<unknown>.RefreshingConnections",
     "output_type": "error",
     "traceback": [
      "\u001b[1;31m---------------------------------------------------------------------------\u001b[0m",
      "\u001b[1;31mAttributeError\u001b[0m                            Traceback (most recent call last)",
      "Cell \u001b[1;32mIn [7], line 25\u001b[0m\n\u001b[0;32m     23\u001b[0m \u001b[39mif\u001b[39;00m \u001b[39m__name__\u001b[39m \u001b[39m==\u001b[39m \u001b[39m\"\u001b[39m\u001b[39m__main__\u001b[39m\u001b[39m\"\u001b[39m:\n\u001b[0;32m     24\u001b[0m     xlsx_file_path \u001b[39m=\u001b[39m \u001b[39m\"\u001b[39m\u001b[39mZ:/02.펀드/003.매매보고서 대사/KIS-PBS_스왑매매내역.xlsx\u001b[39m\u001b[39m\"\u001b[39m  \u001b[39m# 본인의 XLSX 파일 경로로 대체\u001b[39;00m\n\u001b[1;32m---> 25\u001b[0m     refresh_power_query(xlsx_file_path)\n",
      "Cell \u001b[1;32mIn [7], line 15\u001b[0m, in \u001b[0;36mrefresh_power_query\u001b[1;34m(file_path)\u001b[0m\n\u001b[0;32m     12\u001b[0m wb\u001b[39m.\u001b[39mRefreshAll()\n\u001b[0;32m     14\u001b[0m \u001b[39m# 새로 고침이 완료될 때까지 대기\u001b[39;00m\n\u001b[1;32m---> 15\u001b[0m \u001b[39mwhile\u001b[39;00m \u001b[39many\u001b[39;49m(wb\u001b[39m.\u001b[39;49mRefreshingConnections \u001b[39mfor\u001b[39;49;00m wb \u001b[39min\u001b[39;49;00m excel\u001b[39m.\u001b[39;49mWorkbooks):\n\u001b[0;32m     16\u001b[0m     time\u001b[39m.\u001b[39msleep(\u001b[39m1\u001b[39m)\n\u001b[0;32m     18\u001b[0m \u001b[39m# 저장하고 엑셀 닫기\u001b[39;00m\n",
      "Cell \u001b[1;32mIn [7], line 15\u001b[0m, in \u001b[0;36m<genexpr>\u001b[1;34m(.0)\u001b[0m\n\u001b[0;32m     12\u001b[0m wb\u001b[39m.\u001b[39mRefreshAll()\n\u001b[0;32m     14\u001b[0m \u001b[39m# 새로 고침이 완료될 때까지 대기\u001b[39;00m\n\u001b[1;32m---> 15\u001b[0m \u001b[39mwhile\u001b[39;00m \u001b[39many\u001b[39m(wb\u001b[39m.\u001b[39;49mRefreshingConnections \u001b[39mfor\u001b[39;00m wb \u001b[39min\u001b[39;00m excel\u001b[39m.\u001b[39mWorkbooks):\n\u001b[0;32m     16\u001b[0m     time\u001b[39m.\u001b[39msleep(\u001b[39m1\u001b[39m)\n\u001b[0;32m     18\u001b[0m \u001b[39m# 저장하고 엑셀 닫기\u001b[39;00m\n",
      "File \u001b[1;32mc:\\Users\\jtlee\\AppData\\Local\\Programs\\Python\\Python39-32\\lib\\site-packages\\win32com\\client\\dynamic.py:639\u001b[0m, in \u001b[0;36mCDispatch.__getattr__\u001b[1;34m(self, attr)\u001b[0m\n\u001b[0;32m    636\u001b[0m     \u001b[39mreturn\u001b[39;00m \u001b[39mself\u001b[39m\u001b[39m.\u001b[39m_get_good_object_(ret)\n\u001b[0;32m    638\u001b[0m \u001b[39m# no where else to look.\u001b[39;00m\n\u001b[1;32m--> 639\u001b[0m \u001b[39mraise\u001b[39;00m \u001b[39mAttributeError\u001b[39;00m(\u001b[39m\"\u001b[39m\u001b[39m%s\u001b[39;00m\u001b[39m.\u001b[39m\u001b[39m%s\u001b[39;00m\u001b[39m\"\u001b[39m \u001b[39m%\u001b[39m (\u001b[39mself\u001b[39m\u001b[39m.\u001b[39m_username_, attr))\n",
      "\u001b[1;31mAttributeError\u001b[0m: <unknown>.RefreshingConnections"
     ]
    }
   ],
   "source": [
    "import os\n",
    "import win32com.client\n",
    "import time\n",
    "\n",
    "def refresh_power_query(file_path):\n",
    "    # 엑셀 파일 열기\n",
    "    excel = win32com.client.Dispatch(\"Excel.Application\")\n",
    "    excel.Visible = False\n",
    "    wb = excel.Workbooks.Open(os.path.abspath(file_path))\n",
    "    \n",
    "    # Power Query 새로 고치기\n",
    "    wb.RefreshAll()\n",
    "    \n",
    "    # 새로 고침이 완료될 때까지 대기\n",
    "    while any(wb.RefreshingConnections for wb in excel.Workbooks):\n",
    "        time.sleep(1)\n",
    "    \n",
    "    # 저장하고 엑셀 닫기\n",
    "    wb.Save()\n",
    "    wb.Close()\n",
    "    excel.Quit()\n",
    "\n",
    "if __name__ == \"__main__\":\n",
    "    xlsx_file_path = \"Z:/02.펀드/003.매매보고서 대사/KIS-PBS_스왑매매내역.xlsx\"  # 본인의 XLSX 파일 경로로 대체\n",
    "    refresh_power_query(xlsx_file_path)"
   ]
  }
 ],
 "metadata": {
  "kernelspec": {
   "display_name": "Python 3.9.0 32-bit",
   "language": "python",
   "name": "python3"
  },
  "language_info": {
   "codemirror_mode": {
    "name": "ipython",
    "version": 3
   },
   "file_extension": ".py",
   "mimetype": "text/x-python",
   "name": "python",
   "nbconvert_exporter": "python",
   "pygments_lexer": "ipython3",
   "version": "3.9.0"
  },
  "orig_nbformat": 4,
  "vscode": {
   "interpreter": {
    "hash": "8579af7ac4b619c1ff9c21d522b2628fe82b49ca1810dac575e63d57c7a67b1f"
   }
  }
 },
 "nbformat": 4,
 "nbformat_minor": 2
}
