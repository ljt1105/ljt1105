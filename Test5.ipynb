{
 "cells": [
  {
   "cell_type": "code",
   "execution_count": 48,
   "metadata": {},
   "outputs": [],
   "source": [
    "import os\n",
    "import shutil"
   ]
  },
  {
   "cell_type": "code",
   "execution_count": 49,
   "metadata": {},
   "outputs": [],
   "source": [
    "open_position = r\"Z:/03.고유/001.Ops/삼성증권 TRS01 거래/07. Test/잔고보고서\"\n",
    "new_transaction = r\"Z:/03.고유/001.Ops/삼성증권 TRS01 거래/07. Test/신규거래\"\n",
    "unwind_transaction = r\"Z:/03.고유/001.Ops/삼성증권 TRS01 거래/07. Test/청산거래\"\n",
    "mid_settle_transaction = r\"Z:/03.고유/001.Ops/삼성증권 TRS01 거래/07. Test/정산거래\"\n",
    "\n",
    "data_reservoir = r\"Z:/03.고유/001.Ops/삼성증권 TRS01 거래/07. Test/Data Reservoir\""
   ]
  },
  {
   "cell_type": "code",
   "execution_count": 50,
   "metadata": {},
   "outputs": [],
   "source": [
    "open_position_files = os.listdir(open_position)\n",
    "new_transaction_files = os.listdir(new_transaction)\n",
    "unwind_transaction_files = os.listdir(unwind_transaction)\n",
    "mid_settle_transaction_files = os.listdir(mid_settle_transaction)\n",
    "\n",
    "if not os.path.exists(data_reservoir):\n",
    "    os.mkdir(data_reservoir)"
   ]
  },
  {
   "cell_type": "code",
   "execution_count": 51,
   "metadata": {},
   "outputs": [
    {
     "name": "stdout",
     "output_type": "stream",
     "text": [
      "Open position file copy completed\n",
      "Open position file copy completed\n",
      "Open position file copy completed\n",
      "Open position file copy completed\n",
      "Open position file copy completed\n",
      "Open position file copy completed\n",
      "Open position file copy completed\n",
      "Open position file copy completed\n",
      "Open position file copy completed\n",
      "Open position file copy completed\n",
      "Open position file copy completed\n",
      "Open position file copy completed\n",
      "Open position file copy completed\n",
      "Open position file copy completed\n",
      "Open position file copy completed\n",
      "Open position file copy completed\n",
      "Open position file copy completed\n",
      "Open position file copy completed\n",
      "Open position file copy completed\n",
      "Open position file copy completed\n",
      "Open position file copy completed\n",
      "Open position file copy completed\n",
      "Open position file copy completed\n",
      "Open position file copy completed\n",
      "Open position file copy completed\n",
      "Open position file copy completed\n",
      "Open position file copy completed\n",
      "Open position file copy completed\n",
      "Open position file copy completed\n",
      "Open position file copy completed\n",
      "Open position file copy completed\n",
      "Open position file copy completed\n",
      "Open position file copy completed\n",
      "Open position file copy completed\n",
      "Open position file copy completed\n",
      "Open position file copy completed\n",
      "Open position file copy completed\n",
      "Open position file copy completed\n",
      "Open position file copy completed\n",
      "New trasaction file copy completed\n",
      "New trasaction file copy completed\n",
      "Unwind transaction file copy completed\n",
      "Unwind transaction file copy completed\n",
      "Unwind transaction file copy completed\n",
      "Unwind transaction file copy completed\n",
      "Unwind transaction file copy completed\n",
      "Unwind transaction file copy completed\n",
      "Unwind transaction file copy completed\n",
      "Unwind transaction file copy completed\n",
      "Mid settle transaction file copy completed\n",
      "Mid settle transaction file copy completed\n"
     ]
    }
   ],
   "source": [
    "for file in open_position_files:\n",
    "    if 'xlsx' in file:\n",
    "        shutil.copy(open_position+\"/\"+file, data_reservoir+\"/\"+file)\n",
    "print(\"Open position file copy completed\")\n",
    "\n",
    "for file in new_transaction_files:\n",
    "    if 'xlsx' in file:\n",
    "        shutil.copy(new_transaction+\"/\"+file, data_reservoir+\"/\"+file)\n",
    "print(\"New trasaction file copy completed\")\n",
    "\n",
    "for file in unwind_transaction_files:\n",
    "    if 'xlsx' in file:\n",
    "        shutil.copy(unwind_transaction+\"/\"+file, data_reservoir+\"/\"+file)\n",
    "print(\"Unwind transaction file copy completed\")\n",
    "\n",
    "for file in mid_settle_transaction_files:\n",
    "    if 'xlsx' in file:\n",
    "        shutil.copy(mid_settle_transaction+\"/\"+file, data_reservoir+\"/\"+file)\n",
    "print(\"Mid settle transaction file copy completed\")"
   ]
  }
 ],
 "metadata": {
  "kernelspec": {
   "display_name": "Python 3.9.0 32-bit",
   "language": "python",
   "name": "python3"
  },
  "language_info": {
   "codemirror_mode": {
    "name": "ipython",
    "version": 3
   },
   "file_extension": ".py",
   "mimetype": "text/x-python",
   "name": "python",
   "nbconvert_exporter": "python",
   "pygments_lexer": "ipython3",
   "version": "3.9.0"
  },
  "orig_nbformat": 4,
  "vscode": {
   "interpreter": {
    "hash": "8579af7ac4b619c1ff9c21d522b2628fe82b49ca1810dac575e63d57c7a67b1f"
   }
  }
 },
 "nbformat": 4,
 "nbformat_minor": 2
}
