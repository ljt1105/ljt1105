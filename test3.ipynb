{
 "cells": [
  {
   "cell_type": "code",
   "execution_count": 6,
   "metadata": {},
   "outputs": [
    {
     "name": "stdout",
     "output_type": "stream",
     "text": [
      "Module imported\n"
     ]
    }
   ],
   "source": [
    "# Import module\n",
    "\n",
    "from pathlib import Path\n",
    "import win32com.client\n",
    "import os\n",
    "\n",
    "print(\"Module imported\")\n"
   ]
  },
  {
   "cell_type": "code",
   "execution_count": 7,
   "metadata": {},
   "outputs": [
    {
     "name": "stdout",
     "output_type": "stream",
     "text": [
      "Set reservoir\n",
      "Make folder\n",
      "Access outlook\n",
      "Access mailbox\n"
     ]
    }
   ],
   "source": [
    "# Set attachment saving directory\n",
    "output_dir = Path(\"Z:/03.고유/001.Ops/삼성증권 TRS01 거래/07. Test\")\n",
    "print(\"Set reservoir\")\n",
    "\n",
    "# Making directory when not exist\n",
    "output_dir.mkdir(parents=True, exist_ok=True)\n",
    "print(\"Make folder\")\n",
    "\n",
    "# Accessing outlook\n",
    "outlook = win32com.client.Dispatch(\"Outlook.Application\").GetNamespace(\"MAPI\")\n",
    "print(\"Access outlook\")\n",
    "\n",
    "# Set mailbox address where attachmnet is\n",
    "inbox = outlook.GetDefaultFolder(6).Folders(\"SS-TRS\")\n",
    "print(\"Access mailbox\")"
   ]
  },
  {
   "cell_type": "code",
   "execution_count": 8,
   "metadata": {},
   "outputs": [
    {
     "name": "stdout",
     "output_type": "stream",
     "text": [
      "ATT00001.gif\n",
      "잔고보고서_손익_DNMS_20221019.xlsx\n",
      "ATT00001.gif\n",
      "잔고보고서_손익_DNMS_20221018.xlsx\n",
      "신규거래_주식_DNMS_20221018.xlsx\n",
      "ATT00001.gif\n",
      "잔고보고서_손익_DNMS_20221017.xlsx\n",
      "ATT00001.gif\n",
      "잔고보고서_손익_DNMS_20221014.xlsx\n",
      "청산거래_주식_DNMS_20221014.xlsx\n",
      "ATT00001.gif\n",
      "잔고보고서_손익_DNMS_20221013.xlsx\n",
      "신규거래_주식_DNMS_20221013.xlsx\n",
      "ATT00001.gif\n",
      "잔고보고서_손익_DNMS_20221020.xlsx\n",
      "ATT00001.gif\n",
      "잔고보고서_손익_DNMS_20221021.xlsx\n",
      "ATT00001.gif\n",
      "잔고보고서_손익_DNMS_20221024.xlsx\n",
      "ATT00001.gif\n",
      "잔고보고서_손익_DNMS_20221025.xlsx\n",
      "ATT00001.gif\n",
      "잔고보고서_손익_DNMS_20221026.xlsx\n",
      "청산거래_주식_DNMS_20221026.xlsx\n",
      "ATT00001.gif\n",
      "잔고보고서_손익_DNMS_20221027.xlsx\n",
      "ATT00001.gif\n",
      "잔고보고서_손익_DNMS_20221028.xlsx\n",
      "ATT00001.gif\n",
      "잔고보고서_손익_DNMS_20221031.xlsx\n",
      "청산거래_주식_DNMS_20221031.xlsx\n",
      "ATT00001.gif\n",
      "잔고보고서_손익_DNMS_20221101.xlsx\n",
      "ATT00001.gif\n",
      "잔고보고서_손익_DNMS_20221102.xlsx\n",
      "청산거래_주식_DNMS_20221102.xlsx\n",
      "ATT00001.gif\n",
      "잔고보고서_손익_DNMS_20221103.xlsx\n",
      "ATT00001.gif\n",
      "잔고보고서_손익_DNMS_20221104.xlsx\n",
      "ATT00001.gif\n",
      "잔고보고서_손익_DNMS_20221107.xlsx\n",
      "정산거래_주식_DNMS_20221107.xlsx\n",
      "ATT00001.gif\n",
      "잔고보고서_손익_DNMS_20221108.xlsx\n",
      "청산거래_주식_DNMS_20221108.xlsx\n",
      "ATT00001.gif\n",
      "잔고보고서_손익_DNMS_20221109.xlsx\n",
      "ATT00001.gif\n",
      "잔고보고서_손익_DNMS_20221110.xlsx\n",
      "ATT00001.gif\n",
      "잔고보고서_손익_DNMS_20221111.xlsx\n",
      "청산거래_주식_DNMS_20221111.xlsx\n",
      "ATT00001.gif\n",
      "잔고보고서_손익_DNMS_20221114.xlsx\n",
      "ATT00001.gif\n",
      "잔고보고서_손익_DNMS_20221115.xlsx\n",
      "ATT00001.gif\n",
      "잔고보고서_손익_DNMS_20221116.xlsx\n",
      "ATT00001.gif\n",
      "잔고보고서_손익_DNMS_20221117.xlsx\n",
      "ATT00001.gif\n",
      "잔고보고서_손익_DNMS_20221118.xlsx\n",
      "ATT00001.gif\n",
      "잔고보고서_손익_DNMS_20221121.xlsx\n",
      "ATT00001.gif\n",
      "잔고보고서_손익_DNMS_20221122.xlsx\n",
      "ATT00001.gif\n",
      "잔고보고서_손익_DNMS_20221123.xlsx\n",
      "청산거래_주식_DNMS_20221123.xlsx\n",
      "ATT00001.gif\n",
      "잔고보고서_손익_DNMS_20221124.xlsx\n",
      "ATT00001.gif\n",
      "잔고보고서_손익_DNMS_20221125.xlsx\n",
      "ATT00001.gif\n",
      "잔고보고서_손익_DNMS_20221128.xlsx\n",
      "ATT00001.gif\n",
      "잔고보고서_손익_DNMS_20221129.xlsx\n",
      "청산거래_주식_DNMS_20221129.xlsx\n",
      "ATT00001.gif\n",
      "잔고보고서_손익_DNMS_20221130.xlsx\n",
      "ATT00001.gif\n",
      "잔고보고서_손익_DNMS_20221201.xlsx\n",
      "ATT00001.gif\n",
      "잔고보고서_손익_DNMS_20221202.xlsx\n",
      "ATT00001.gif\n",
      "잔고보고서_손익_DNMS_20221205.xlsx\n",
      "정산거래_주식_DNMS_20221205.xlsx\n",
      "ATT00001.gif\n",
      "잔고보고서_손익_DNMS_20221206.xlsx\n",
      "Process finished\n"
     ]
    }
   ],
   "source": [
    "messages = inbox.Items\n",
    "\n",
    "for message in messages:\n",
    "    attachments = message.Attachments\n",
    "\n",
    "    target_folder = output_dir\n",
    "    target_folder.mkdir(parents=True, exist_ok=True)\n",
    "\n",
    "    for attachment in attachments:\n",
    "        attachment.SaveAsFile(target_folder / str(attachment))\n",
    "\n",
    "print(f'Process finished')"
   ]
  }
 ],
 "metadata": {
  "kernelspec": {
   "display_name": "Python 3.9.0 32-bit",
   "language": "python",
   "name": "python3"
  },
  "language_info": {
   "codemirror_mode": {
    "name": "ipython",
    "version": 3
   },
   "file_extension": ".py",
   "mimetype": "text/x-python",
   "name": "python",
   "nbconvert_exporter": "python",
   "pygments_lexer": "ipython3",
   "version": "3.9.0"
  },
  "orig_nbformat": 4,
  "vscode": {
   "interpreter": {
    "hash": "8579af7ac4b619c1ff9c21d522b2628fe82b49ca1810dac575e63d57c7a67b1f"
   }
  }
 },
 "nbformat": 4,
 "nbformat_minor": 2
}
