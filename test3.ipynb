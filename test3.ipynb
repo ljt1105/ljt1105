{
 "cells": [
  {
   "cell_type": "code",
   "execution_count": 32,
   "metadata": {},
   "outputs": [
    {
     "name": "stdout",
     "output_type": "stream",
     "text": [
      "Module imported\n"
     ]
    }
   ],
   "source": [
    "# Import module\n",
    "\n",
    "from pathlib import Path\n",
    "import win32com.client\n",
    "import os\n",
    "\n",
    "print(\"Module imported\")\n"
   ]
  },
  {
   "cell_type": "code",
   "execution_count": 33,
   "metadata": {},
   "outputs": [],
   "source": [
    "output_dir = Path(\"C:/Users/jtlee/Documents/SS-TRS\")\n",
    "\n",
    "output_dir.mkdir(parents=True, exist_ok=True)\n",
    "outlook = win32com.client.Dispatch(\"Outlook.Application\").GetNamespace(\"MAPI\")"
   ]
  },
  {
   "cell_type": "code",
   "execution_count": 34,
   "metadata": {},
   "outputs": [],
   "source": [
    "inbox = outlook.GetDefaultFolder(6).Folders(\"SS-TRS\")"
   ]
  },
  {
   "cell_type": "code",
   "execution_count": 35,
   "metadata": {},
   "outputs": [],
   "source": [
    "messages = inbox.Items\n",
    "\n",
    "for message in messages:\n",
    "    attachments = message.Attachments\n",
    "\n",
    "    target_folder = output_dir\n",
    "    target_folder.mkdir(parents=True, exist_ok=True)\n",
    "\n",
    "    for attachment in attachments:\n",
    "        attachment.SaveAsFile(target_folder / str(attachment))"
   ]
  }
 ],
 "metadata": {
  "kernelspec": {
   "display_name": "Python 3.9.0 32-bit",
   "language": "python",
   "name": "python3"
  },
  "language_info": {
   "codemirror_mode": {
    "name": "ipython",
    "version": 3
   },
   "file_extension": ".py",
   "mimetype": "text/x-python",
   "name": "python",
   "nbconvert_exporter": "python",
   "pygments_lexer": "ipython3",
   "version": "3.9.0"
  },
  "orig_nbformat": 4,
  "vscode": {
   "interpreter": {
    "hash": "8579af7ac4b619c1ff9c21d522b2628fe82b49ca1810dac575e63d57c7a67b1f"
   }
  }
 },
 "nbformat": 4,
 "nbformat_minor": 2
}
