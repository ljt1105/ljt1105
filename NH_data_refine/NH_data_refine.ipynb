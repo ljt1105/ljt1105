{
 "cells": [
  {
   "cell_type": "code",
   "execution_count": null,
   "metadata": {},
   "outputs": [],
   "source": [
    "import os\n",
    "import pandas as pd\n",
    "\n",
    "# 엑셀 파일이 있는 디렉토리 경로\n",
    "directory_path = \"Z:/01.공용/Ops/--. NH\"\n",
    "\n",
    "# 디렉토리 내의 모든 엑셀 파일을 읽어들이기\n",
    "excel_files = [f for f in os.listdir(directory_path) if f.endswith('.xlsx')]\n",
    "\n",
    "# 각 파일의 'f33' 열의 값을 저장할 리스트\n",
    "f33_values = []\n",
    "\n",
    "# 각 엑셀 파일을 읽어서 'f33' 열의 값을 추출\n",
    "for excel_file in excel_files:\n",
    "    file_path = os.path.join(directory_path, excel_file)\n",
    "    df = pd.read_excel(file_path)\n",
    "    \n",
    "    # 'f33' 열의 값을 가져와 리스트에 추가\n",
    "    f33_values.extend(df['f33'].tolist())\n",
    "\n",
    "# 파일명순으로 정렬\n",
    "sorted_f33_values = sorted(f33_values)\n",
    "\n",
    "# 결과 출력\n",
    "print(sorted_f33_values)"
   ]
  },
  {
   "cell_type": "code",
   "execution_count": 6,
   "metadata": {},
   "outputs": [
    {
     "name": "stdout",
     "output_type": "stream",
     "text": [
      "결과가 Z:/01.공용/Ops/--. NH\\sorted_cell_values.xlsx에 저장되었습니다.\n"
     ]
    }
   ],
   "source": [
    "import os\n",
    "import openpyxl\n",
    "\n",
    "# 엑셀 파일이 있는 디렉토리 경로\n",
    "directory_path = \"Z:/01.공용/Ops/--. NH\"\n",
    "\n",
    "# 디렉토리 내의 모든 엑셀 파일을 읽어들이기\n",
    "excel_files = [f for f in os.listdir(directory_path) if f.endswith('.xlsx')]\n",
    "\n",
    "# 각 파일의 특정 셀의 값을 저장할 리스트\n",
    "cell_values = []\n",
    "\n",
    "# 각 엑셀 파일을 읽어서 특정 셀의 값을 추출\n",
    "for excel_file in excel_files:\n",
    "    file_path = os.path.join(directory_path, excel_file)\n",
    "    \n",
    "    # 엑셀 파일 열기\n",
    "    wb = openpyxl.load_workbook(file_path)\n",
    "    \n",
    "    # 특정 시트와 셀 선택\n",
    "    sheet = wb.active\n",
    "    cell_value = sheet['F33'].value  # F33 셀의 값을 읽어옴\n",
    "    \n",
    "    # 값이 None이 아닌 경우에만 리스트에 추가\n",
    "    if cell_value is not None:\n",
    "        cell_values.append(cell_value)\n",
    "\n",
    "# 파일명 순으로 정렬\n",
    "sorted_cell_values = sorted(cell_values)\n",
    "\n",
    "# 결과를 엑셀 파일로 저장\n",
    "result_excel_path = os.path.join(directory_path, 'sorted_cell_values.xlsx')\n",
    "wb = openpyxl.Workbook()\n",
    "ws = wb.active\n",
    "for i, value in enumerate(sorted_cell_values, start=1):\n",
    "    ws.cell(row=i, column=1, value=value)\n",
    "\n",
    "# 저장\n",
    "wb.save(result_excel_path)\n",
    "\n",
    "print(f\"결과가 {result_excel_path}에 저장되었습니다.\")"
   ]
  },
  {
   "cell_type": "code",
   "execution_count": 8,
   "metadata": {},
   "outputs": [
    {
     "name": "stdout",
     "output_type": "stream",
     "text": [
      "결과가 Z:/01.공용/Ops/--. NH\\sorted_cell_values_with_filenames.xlsx에 저장되었습니다.\n"
     ]
    }
   ],
   "source": [
    "import os\n",
    "import openpyxl\n",
    "\n",
    "# 엑셀 파일이 있는 디렉토리 경로\n",
    "directory_path = \"Z:/01.공용/Ops/--. NH\"\n",
    "\n",
    "# 디렉토리 내의 모든 엑셀 파일을 읽어들이기\n",
    "excel_files = [f for f in os.listdir(directory_path) if f.endswith('.xlsx')]\n",
    "\n",
    "# 결과를 저장할 리스트\n",
    "result_data = []\n",
    "\n",
    "# 각 엑셀 파일을 읽어서 특정 셀의 값을 추출하고 파일명을 추가\n",
    "for excel_file in excel_files:\n",
    "    file_path = os.path.join(directory_path, excel_file)\n",
    "    \n",
    "    # 엑셀 파일 열기\n",
    "    wb = openpyxl.load_workbook(file_path)\n",
    "    \n",
    "    # 특정 시트와 셀 선택\n",
    "    sheet = wb.active\n",
    "    cell_value = sheet['F33'].value  # F33 셀의 값을 읽어옴\n",
    "    \n",
    "    # 값이 None이 아닌 경우에만 리스트에 추가\n",
    "    if cell_value is not None:\n",
    "        result_data.append((excel_file, cell_value))\n",
    "\n",
    "# 파일명을 기준으로 정렬\n",
    "sorted_result_data = sorted(result_data, key=lambda x: x[0])\n",
    "\n",
    "# 결과를 엑셀 파일로 저장\n",
    "result_excel_path = os.path.join(directory_path, 'sorted_cell_values_with_filenames.xlsx')\n",
    "wb = openpyxl.Workbook()\n",
    "ws = wb.active\n",
    "for i, (file_name, value) in enumerate(sorted_result_data, start=1):\n",
    "    ws.cell(row=i, column=1, value=file_name)\n",
    "    ws.cell(row=i, column=2, value=value)\n",
    "\n",
    "# 저장\n",
    "wb.save(result_excel_path)\n",
    "\n",
    "print(f\"결과가 {result_excel_path}에 저장되었습니다.\")"
   ]
  }
 ],
 "metadata": {
  "kernelspec": {
   "display_name": "Python 3.9.0 32-bit",
   "language": "python",
   "name": "python3"
  },
  "language_info": {
   "codemirror_mode": {
    "name": "ipython",
    "version": 3
   },
   "file_extension": ".py",
   "mimetype": "text/x-python",
   "name": "python",
   "nbconvert_exporter": "python",
   "pygments_lexer": "ipython3",
   "version": "3.9.0"
  },
  "orig_nbformat": 4,
  "vscode": {
   "interpreter": {
    "hash": "8579af7ac4b619c1ff9c21d522b2628fe82b49ca1810dac575e63d57c7a67b1f"
   }
  }
 },
 "nbformat": 4,
 "nbformat_minor": 2
}
