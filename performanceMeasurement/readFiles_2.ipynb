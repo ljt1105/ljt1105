{
 "cells": [
  {
   "cell_type": "code",
   "execution_count": 1,
   "metadata": {},
   "outputs": [
    {
     "name": "stdout",
     "output_type": "stream",
     "text": [
      "           구분 거래구분        거래일     펀드코드                  펀드명          종목코드  \\\n",
      "No                                                                          \n",
      "1    집합투자증권매수  NaN        NaT      NaN                  NaN           NaN   \n",
      "2    집합투자증권매수   일반 2023-01-02  DM12001    두나미스 공모주 일반사모투자신탁  KR7251340006   \n",
      "3    집합투자증권매수   일반 2023-01-02  DM13001  두나미스 코스닥밴처 일반사모투자신탁  KR7229200001   \n",
      "4    집합투자증권매수   일반 2023-01-02  DM13001  두나미스 코스닥밴처 일반사모투자신탁  KR7252670005   \n",
      "5    집합투자증권매수   일반 2023-01-02  DM14001   두나미스 멀티전략 일반사모투자신탁  KR7229200001   \n",
      "..        ...  ...        ...      ...                  ...           ...   \n",
      "918      주식매도   차입 2023-06-30  DM14001   두나미스 멀티전략 일반사모투자신탁  KR7298020009   \n",
      "919      주식매도   차입 2023-06-30  DM14001   두나미스 멀티전략 일반사모투자신탁  KR7393890009   \n",
      "920      주식매도   일반 2023-06-30  DM15002         두나미스인베스트먼트홀딩  KR7340810001   \n",
      "921      주식매도   일반 2023-06-30  DM15002         두나미스인베스트먼트홀딩  KR7354320004   \n",
      "922      주식매도   일반 2023-06-30  DM15004      주식회사두나미스파트너스_NH  KR7354320004   \n",
      "\n",
      "                   종목명      수량    평균단가        거래금액      수수료       거래세  \\\n",
      "No                                                                      \n",
      "1                  NaN  475910    5508  2621327275  1310580         0   \n",
      "2    KODEX 코스닥150선물인버스    7100    5632    39987020    19990         0   \n",
      "3         KODEX 코스닥150   19500    9770   190506335    95250         0   \n",
      "4     KODEX 200선물인버스2X   27740    3435    95286900    47640         0   \n",
      "5         KODEX 코스닥150    4180    9570    40000510    20000         0   \n",
      "..                 ...     ...     ...         ...      ...       ...   \n",
      "918              효성티앤씨      20  381925     7638500     3810     15259   \n",
      "919              더블유씨피     200   74535    14907000     7450     29814   \n",
      "920               씨유박스   12000   11772   141267980   141260    282464   \n",
      "921                 알멕   43067  147340  6345499700  6345490  12690455   \n",
      "922                 알멕    1800  154509   278116500    55620    556146   \n",
      "\n",
      "           결제금액      매매손익액  매매처명      단축코드       종목구분  \n",
      "No                                                     \n",
      "1    2622637855          0   NaN       NaN        NaN  \n",
      "2      40007010          0   NaN  251340.0  상장주식-장내거래  \n",
      "3     190601585          0   NaN  229200.0  상장주식-장내거래  \n",
      "4      95334540          0   NaN  252670.0  상장주식-장내거래  \n",
      "5      40020510          0   NaN  229200.0  상장주식-장내거래  \n",
      "..          ...        ...   ...       ...        ...  \n",
      "918     7619431          0   NaN  298020.0  상장주식-장내거래  \n",
      "919    14869736          0   NaN  393890.0  등록주식-장내거래  \n",
      "920   140844256  -40955744   NaN  340810.0  등록주식-장내거래  \n",
      "921  6326463755 -159149529   NaN  354320.0  등록주식-장내거래  \n",
      "922   277504734  186604734   NaN  354320.0  등록주식-장내거래  \n",
      "\n",
      "[3382 rows x 17 columns]\n"
     ]
    },
    {
     "name": "stderr",
     "output_type": "stream",
     "text": [
      "c:\\Users\\jtlee\\AppData\\Local\\Programs\\Python\\Python39-32\\lib\\site-packages\\pandas\\util\\_decorators.py:211: FutureWarning: the 'encoding' keyword is deprecated and will be removed in a future version. Please take steps to stop the use of 'encoding'\n",
      "  return func(*args, **kwargs)\n"
     ]
    },
    {
     "name": "stdout",
     "output_type": "stream",
     "text": [
      "병합된 결과가 Z:/02.펀드/018. 성과측정/2023/2023H1/주식매매\\merged_stock_trade.xlsx에 저장되었습니다.\n"
     ]
    }
   ],
   "source": [
    "import os\n",
    "import pandas as pd\n",
    "\n",
    "# xlsx 파일들이 들어있는 디렉토리 경로\n",
    "directory_path = \"Z:/02.펀드/018. 성과측정/2023/2023H1/주식매매\"\n",
    "\n",
    "# 디렉토리 내의 모든 xlsx 파일을 읽어들이기\n",
    "file_list = [os.path.join(directory_path, f) for f in os.listdir(directory_path) if f.endswith('.xlsx')]\n",
    "\n",
    "# 파일을 읽어들여 데이터프레임으로 변환\n",
    "dataframes = []\n",
    "for file in file_list:\n",
    "    # 첫 번째 행을 인덱스로 설정하고자 함\n",
    "    df = pd.read_excel(file, index_col=0)\n",
    "    dataframes.append(df)\n",
    "\n",
    "# 데이터프레임 병합\n",
    "result = pd.concat(dataframes)\n",
    "\n",
    "print(result)\n",
    "\n",
    "# 펀드코드' 칼럼이 비어있는 행 삭제\n",
    "result = result.dropna(subset=['펀드코드'])\n",
    "\n",
    "# 결과를 Excel 파일로 저장\n",
    "result_excel_path = os.path.join(directory_path, 'merged_stock_trade.xlsx')\n",
    "result.to_excel(result_excel_path, encoding='utf-8')\n",
    "\n",
    "print(f\"병합된 결과가 {result_excel_path}에 저장되었습니다.\")"
   ]
  },
  {
   "cell_type": "markdown",
   "metadata": {},
   "source": [
    "##### 당기 주식평가손익 계산 방법\n",
    "1. 당기에 결산이 없는 경우\n",
    "- 기말 주식평가손익 - 기초 주식평가손익\n",
    "2. 중간에 결산이 있는 경우\n",
    "- 기말 주식평가손익 + (결산일 주식평가손익 - 기초 주식평가손익)\n",
    "3. 유의할 점\n",
    "- 기말에 남아있는 종목에 대해서만 평가손익 계산할 것.\n",
    "- 공모주는 무조건 대표님 포지션\n",
    "--> 어떻게 구분? 수기로 하는 수밖에\n",
    "##### 필요한 정보\n",
    "1) rawdata 파일제목에 들어가야할 정보\n",
    "- 일자구분(기초, 기말, 결산), (펀드코드)\n",
    "2) rawdata에서 매칭시켜야 할 정보\n",
    "- 펀드 : 펀드코드 또는 펀드명으로 매칭\n",
    "- 종목 : 종목코드(티커)로 매칭.(종목명은 트레이딩 팀에서 임의로 변경하는 경우에 있기에 불가)\n",
    "- 매니저 : 각 종목이 어떤 매니저의 포지션인지 구분한 후 매칭"
   ]
  },
  {
   "cell_type": "code",
   "execution_count": null,
   "metadata": {},
   "outputs": [],
   "source": []
  }
 ],
 "metadata": {
  "kernelspec": {
   "display_name": "Python 3.9.0 32-bit",
   "language": "python",
   "name": "python3"
  },
  "language_info": {
   "codemirror_mode": {
    "name": "ipython",
    "version": 3
   },
   "file_extension": ".py",
   "mimetype": "text/x-python",
   "name": "python",
   "nbconvert_exporter": "python",
   "pygments_lexer": "ipython3",
   "version": "3.9.0"
  },
  "orig_nbformat": 4,
  "vscode": {
   "interpreter": {
    "hash": "8579af7ac4b619c1ff9c21d522b2628fe82b49ca1810dac575e63d57c7a67b1f"
   }
  }
 },
 "nbformat": 4,
 "nbformat_minor": 2
}
