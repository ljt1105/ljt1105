{
 "cells": [
  {
   "cell_type": "code",
   "execution_count": 13,
   "metadata": {},
   "outputs": [
    {
     "name": "stdout",
     "output_type": "stream",
     "text": [
      "Account ID: de568885-1db8-4750-b477-ddc53b145871\n",
      "Currency: KRW\n",
      "Balance: 179501646.3\n",
      "Product ID: 6ed5e7e4-7ed0-4449-b56c-2eca62206696\n"
     ]
    }
   ],
   "source": []
  }
 ],
 "metadata": {
  "kernelspec": {
   "display_name": "Python 3.9.0 32-bit",
   "language": "python",
   "name": "python3"
  },
  "language_info": {
   "codemirror_mode": {
    "name": "ipython",
    "version": 3
   },
   "file_extension": ".py",
   "mimetype": "text/x-python",
   "name": "python",
   "nbconvert_exporter": "python",
   "pygments_lexer": "ipython3",
   "version": "3.9.0"
  },
  "orig_nbformat": 4,
  "vscode": {
   "interpreter": {
    "hash": "8579af7ac4b619c1ff9c21d522b2628fe82b49ca1810dac575e63d57c7a67b1f"
   }
  }
 },
 "nbformat": 4,
 "nbformat_minor": 2
}
