{
 "cells": [
  {
   "cell_type": "code",
   "execution_count": 13,
   "metadata": {},
   "outputs": [
    {
     "name": "stdout",
     "output_type": "stream",
     "text": [
      "Account ID: de568885-1db8-4750-b477-ddc53b145871\n",
      "Currency: KRW\n",
      "Balance: 179501646.3\n",
      "Product ID: 6ed5e7e4-7ed0-4449-b56c-2eca62206696\n"
     ]
    }
   ],
   "source": [
    "import requests\n",
    "\n",
    "url = 'http://3.34.197.25:13010/search'\n",
    "params = {'accountId': 'kr-dunamisam-krw-pi-ipo-stock'}\n",
    "headers = {'accept': '*/*'}\n",
    "\n",
    "response = requests.get(url, params=params, headers=headers)\n",
    "\n",
    "if response.status_code == 200:\n",
    "    response_data = response.json()\n",
    "    \n",
    "    if 'body' in response_data and 'balance' in response_data['body']:\n",
    "        balance = response_data['body']['balance']\n",
    "        currency = response_data['body']['currency']\n",
    "        product_id = response_data['body']['productId']\n",
    "\n",
    "        print(\"Account ID:\", response_data['body']['accountId'])\n",
    "        print(\"Currency:\", currency)\n",
    "        print(\"Balance:\", balance)\n",
    "        print(\"Product ID:\", product_id)\n",
    "    else:\n",
    "        print(\"Response data does not have the expected structure.\")\n",
    "\n",
    "else:\n",
    "    print(\"Request failed with status code:\", response.status_code)"
   ]
  },
  {
   "cell_type": "code",
   "execution_count": null,
   "metadata": {},
   "outputs": [],
   "source": [
    "import requests\n",
    "\n",
    "url = 'http://3.34.197.25:13010/roots'\n",
    "params = {'accountId': 'kr-dunamisam-krw-pi-ipo-stock'}\n",
    "headers = {'accept': '*/*'}\n",
    "\n",
    "response = requests.get(url, params=params, headers=headers)\n",
    "\n",
    "if response.status_code == 200:\n",
    "    response_data = response.json()\n",
    "\n",
    "    print(response_data)\n",
    "\n",
    "else:\n",
    "    print(\"Request failed with status code:\", response.status_code)"
   ]
  }
 ],
 "metadata": {
  "kernelspec": {
   "display_name": "Python 3.9.0 32-bit",
   "language": "python",
   "name": "python3"
  },
  "language_info": {
   "codemirror_mode": {
    "name": "ipython",
    "version": 3
   },
   "file_extension": ".py",
   "mimetype": "text/x-python",
   "name": "python",
   "nbconvert_exporter": "python",
   "pygments_lexer": "ipython3",
   "version": "3.9.0"
  },
  "orig_nbformat": 4,
  "vscode": {
   "interpreter": {
    "hash": "8579af7ac4b619c1ff9c21d522b2628fe82b49ca1810dac575e63d57c7a67b1f"
   }
  }
 },
 "nbformat": 4,
 "nbformat_minor": 2
}
