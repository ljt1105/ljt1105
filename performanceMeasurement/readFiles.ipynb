{
 "cells": [
  {
   "cell_type": "code",
   "execution_count": 2,
   "metadata": {},
   "outputs": [
    {
     "name": "stdout",
     "output_type": "stream",
     "text": [
      "{'body': [{'doorayUserId': '3149961416953900967',\n",
      "           'email': 'ywchung@dunamiscap.com',\n",
      "           'memberId': '2c9cf099-5690-4778-b47f-3ce89e78d9e4',\n",
      "           'name': 'Chung Youngwoo',\n",
      "           'nickname': 'ychung',\n",
      "           'status': 'ACTIVE'},\n",
      "          {'doorayUserId': '3051383155303222043',\n",
      "           'email': 'wkim@dunamiscap.com',\n",
      "           'memberId': 'a080879d-8e96-47d9-9f5f-745ee6560735',\n",
      "           'name': 'William Kim',\n",
      "           'nickname': 'kimwilliam81',\n",
      "           'status': 'ACTIVE'},\n",
      "          {'doorayUserId': '3047733839356766176',\n",
      "           'email': 'tbang@dunamiscap.com',\n",
      "           'memberId': 'b321007e-fd66-4785-8123-a1d4fd3d168a',\n",
      "           'name': '방태현',\n",
      "           'nickname': 'tbang',\n",
      "           'status': 'CLOSED'},\n",
      "          {'doorayUserId': '3048558969658400785',\n",
      "           'email': 'ihyeo@dunamiscap.com',\n",
      "           'memberId': '0ce03431-c859-4ebf-943c-226728e78c7d',\n",
      "           'name': 'In Hyuk',\n",
      "           'nickname': 'lefromage',\n",
      "           'status': 'INACTIVE'},\n",
      "          {'doorayUserId': '3047710014329356150',\n",
      "           'email': 'tykwon320@gmail.com',\n",
      "           'memberId': 'c8eb750e-a775-47a4-a7b1-279a01d67f7e',\n",
      "           'name': 'Dunamis Asset Management',\n",
      "           'nickname': 'master',\n",
      "           'status': 'INACTIVE'},\n",
      "          {'doorayUserId': '3051432780106138366',\n",
      "           'email': 'kjoh@dunamiscap.com',\n",
      "           'memberId': '8a4cf5d6-a9a5-4ea7-b93e-62fb14fb080c',\n",
      "           'name': 'Jun Oh',\n",
      "           'nickname': 'kjoh0118',\n",
      "           'status': 'INACTIVE'},\n",
      "          {'doorayUserId': '3047732289033486485',\n",
      "           'email': 'tykwon@dunamiscap.com',\n",
      "           'memberId': 'e3cfcf37-24d5-4f2d-a713-e4d65cfec25a',\n",
      "           'name': 'Tae Yeon Kwon',\n",
      "           'nickname': 'tk',\n",
      "           'status': 'INACTIVE'},\n",
      "          {'doorayUserId': '3049274273135730192',\n",
      "           'email': 'hjung@dunamiscap.com',\n",
      "           'memberId': '5807eba5-c7d1-4fa0-9884-ea0becbda1f5',\n",
      "           'name': 'Hangjun Jung',\n",
      "           'nickname': 'hjung',\n",
      "           'status': 'ACTIVE'},\n",
      "          {'doorayUserId': '3047755586772854689',\n",
      "           'email': 'jra@dunamiscap.com',\n",
      "           'memberId': 'e32b6ca4-965e-40ba-8628-92c57920c326',\n",
      "           'name': 'John Ra',\n",
      "           'nickname': 'johnra',\n",
      "           'status': 'ACTIVE'},\n",
      "          {'doorayUserId': '3047873342043423255',\n",
      "           'email': 'mkim@dunamiscap.com',\n",
      "           'memberId': '771c3ceb-000c-434f-89ad-3945d75e6512',\n",
      "           'name': 'Mina Kim',\n",
      "           'nickname': 'minakim',\n",
      "           'status': 'ACTIVE'},\n",
      "          {'doorayUserId': '3399355049665530334',\n",
      "           'email': 'jyjeong@dunamiscap.com',\n",
      "           'memberId': 'd73fbd49-b80f-4a5e-a469-4753b02fd94e',\n",
      "           'name': 'Juyeon Jeong',\n",
      "           'nickname': 'jjooy1024',\n",
      "           'status': 'ACTIVE'},\n",
      "          {'doorayUserId': '3357223583064041164',\n",
      "           'email': 'dksohn@dunamiscap.com',\n",
      "           'memberId': '7d39942e-20ae-40c8-8283-646e205579ef',\n",
      "           'name': 'Deogkon Sohn',\n",
      "           'nickname': 'sonshon',\n",
      "           'status': 'ACTIVE'}],\n",
      " 'fail': False,\n",
      " 'responseHeader': {'responseTimestamp': 1693296221412, 'success': True},\n",
      " 'success': True}\n"
     ]
    }
   ],
   "source": [
    "import requests\n",
    "import pprint\n",
    "\n",
    "url = \"http://3.34.197.25:13040/members/all\"\n",
    "\n",
    "response = requests.get(url)\n",
    "\n",
    "if response.status_code == 200:\n",
    "    data = response.json()  # JSON 데이터로 파싱\n",
    "\n",
    "    pprint.pprint(data)  # 예쁘게 정리된 출력\n",
    "\n",
    "else:\n",
    "    print(\"Request failed with status code:\", response.status_code)"
   ]
  },
  {
   "cell_type": "code",
   "execution_count": 1,
   "metadata": {},
   "outputs": [
    {
     "name": "stdout",
     "output_type": "stream",
     "text": [
      "Request failed with status code: 500\n"
     ]
    }
   ],
   "source": [
    "import requests\n",
    "import pprint\n",
    "\n",
    "url = \"http://3.34.197.25:13060/performance/members/2c9cf099-5690-4778-b47f-3ce89e78d9e4\"\n",
    "\n",
    "response = requests.get(url)\n",
    "\n",
    "if response.status_code == 200:\n",
    "    data = response.json()  # JSON 데이터로 파싱\n",
    "\n",
    "    pprint.pprint(data)  # 예쁘게 정리된 출력\n",
    "\n",
    "else:\n",
    "    print(\"Request failed with status code:\", response.status_code)"
   ]
  }
 ],
 "metadata": {
  "kernelspec": {
   "display_name": "Python 3.9.0 32-bit",
   "language": "python",
   "name": "python3"
  },
  "language_info": {
   "codemirror_mode": {
    "name": "ipython",
    "version": 3
   },
   "file_extension": ".py",
   "mimetype": "text/x-python",
   "name": "python",
   "nbconvert_exporter": "python",
   "pygments_lexer": "ipython3",
   "version": "3.9.0"
  },
  "orig_nbformat": 4,
  "vscode": {
   "interpreter": {
    "hash": "8579af7ac4b619c1ff9c21d522b2628fe82b49ca1810dac575e63d57c7a67b1f"
   }
  }
 },
 "nbformat": 4,
 "nbformat_minor": 2
}
