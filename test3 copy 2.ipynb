{
 "cells": [
  {
   "cell_type": "code",
   "execution_count": 7,
   "metadata": {},
   "outputs": [
    {
     "name": "stdout",
     "output_type": "stream",
     "text": [
      "Module imported\n"
     ]
    }
   ],
   "source": [
    "# Import module\n",
    "\n",
    "from pathlib import Path\n",
    "import win32com.client\n",
    "import os\n",
    "\n",
    "print(\"Module imported\")\n"
   ]
  },
  {
   "cell_type": "code",
   "execution_count": 8,
   "metadata": {},
   "outputs": [],
   "source": [
    "# output_dir = Path(\"C:/Users/jtlee/Documents/SS-TRS\")\n",
    "# output_dir = Path(\"Z:/03.고유/001.Ops/삼성증권 TRS01 거래/07. Test\")\n",
    "output_dir = \"Z:/03.고유/001.Ops/삼성증권 TRS01 거래/07. Test\"\n",
    "# output_dir = r\"Z:\\\\03.고유\\001.Ops\\삼성증권 TRS01 거래\\07. Test\"\n",
    "\n",
    "# output_dir.mkdir(parents=True, exist_ok=True)\n",
    "outlook = win32com.client.Dispatch(\"Outlook.Application\").GetNamespace(\"MAPI\")"
   ]
  },
  {
   "cell_type": "code",
   "execution_count": 9,
   "metadata": {},
   "outputs": [],
   "source": [
    "inbox = outlook.GetDefaultFolder(6).Folders(\"SS-TRS\")"
   ]
  },
  {
   "cell_type": "code",
   "execution_count": 12,
   "metadata": {},
   "outputs": [
    {
     "ename": "com_error",
     "evalue": "(-2147352567, '예외가 발생했습니다.', (4096, 'Microsoft Outlook', '첨부 파일을 저장할 수 없습니다. 경로가 없습니다. 경로가 올바른지 확인하십시오.', None, 0, -2147024893), None)",
     "output_type": "error",
     "traceback": [
      "\u001b[1;31m---------------------------------------------------------------------------\u001b[0m",
      "\u001b[1;31mcom_error\u001b[0m                                 Traceback (most recent call last)",
      "Cell \u001b[1;32mIn [12], line 12\u001b[0m\n\u001b[0;32m      7\u001b[0m \u001b[39m# target_folder = Path(output_dir)\u001b[39;00m\n\u001b[0;32m      8\u001b[0m \u001b[39m# target_folder.mkdir(parents=True, exist_ok=True)\u001b[39;00m\n\u001b[0;32m     10\u001b[0m \u001b[39mfor\u001b[39;00m attachment \u001b[39min\u001b[39;00m attachments:\n\u001b[0;32m     11\u001b[0m     \u001b[39m# attachment.SaveAsFile(target_folder / str(attachment))\u001b[39;00m\n\u001b[1;32m---> 12\u001b[0m     attachment\u001b[39m.\u001b[39;49mSaveAsFile(os\u001b[39m.\u001b[39;49mpath\u001b[39m.\u001b[39;49mjoin(target_folder, \u001b[39mstr\u001b[39;49m(attachment)))\n",
      "File \u001b[1;32m<COMObject <unknown>>:2\u001b[0m, in \u001b[0;36mSaveAsFile\u001b[1;34m(self, Path)\u001b[0m\n",
      "\u001b[1;31mcom_error\u001b[0m: (-2147352567, '예외가 발생했습니다.', (4096, 'Microsoft Outlook', '첨부 파일을 저장할 수 없습니다. 경로가 없습니다. 경로가 올바른지 확인하십시오.', None, 0, -2147024893), None)"
     ]
    }
   ],
   "source": [
    "messages = inbox.Items\n",
    "\n",
    "for message in messages:\n",
    "    attachments = message.Attachments\n",
    "\n",
    "    target_folder = os.path.expanduser(output_dir)\n",
    "    # target_folder = Path(output_dir)\n",
    "    # target_folder.mkdir(parents=True, exist_ok=True)\n",
    "\n",
    "    for attachment in attachments:\n",
    "        # attachment.SaveAsFile(target_folder / str(attachment))\n",
    "        attachment.SaveAsFile(os.path.join(target_folder, str(attachment)))"
   ]
  }
 ],
 "metadata": {
  "kernelspec": {
   "display_name": "Python 3.9.0 32-bit",
   "language": "python",
   "name": "python3"
  },
  "language_info": {
   "codemirror_mode": {
    "name": "ipython",
    "version": 3
   },
   "file_extension": ".py",
   "mimetype": "text/x-python",
   "name": "python",
   "nbconvert_exporter": "python",
   "pygments_lexer": "ipython3",
   "version": "3.9.0"
  },
  "orig_nbformat": 4,
  "vscode": {
   "interpreter": {
    "hash": "8579af7ac4b619c1ff9c21d522b2628fe82b49ca1810dac575e63d57c7a67b1f"
   }
  }
 },
 "nbformat": 4,
 "nbformat_minor": 2
}
