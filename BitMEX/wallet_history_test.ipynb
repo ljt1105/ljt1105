{
 "cells": [
  {
   "cell_type": "code",
   "execution_count": null,
   "metadata": {},
   "outputs": [],
   "source": [
    "import pandas as pd\n",
    "from bitmex_websocket import BitMEXWebsocket\n",
    "ws = BitMEXWebsocket(endpoint=\"wss://ws.testnet.bitmex.com/realtime\", symbol=\"XBTUSD\", api_key=\"hB2XjWakAlI2Q-AFp3i7xM7C\", api_secret=\"l7OTVNekP3ndchRfhVamnMIdccLQcLHeM9Z_BkyFtqhEjmOp\")"
   ]
  }
 ],
 "metadata": {
  "language_info": {
   "name": "python"
  },
  "orig_nbformat": 4
 },
 "nbformat": 4,
 "nbformat_minor": 2
}
