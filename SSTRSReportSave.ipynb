{
 "cells": [
  {
   "cell_type": "code",
   "execution_count": 1,
   "metadata": {},
   "outputs": [
    {
     "name": "stdout",
     "output_type": "stream",
     "text": [
      "Module imported\n"
     ]
    }
   ],
   "source": [
    "# Import module\n",
    "\n",
    "from pathlib import Path\n",
    "import win32com.client\n",
    "import os\n",
    "\n",
    "print(\"Module imported\")"
   ]
  },
  {
   "cell_type": "code",
   "execution_count": 2,
   "metadata": {},
   "outputs": [],
   "source": [
    "# Create output folder\n",
    "\n",
    "# output_dir = Path.cwd() / \"Output\"\n",
    "# output_dir = Path.exists(\"C:\\Users\\jtlee\\Documents\\SS-TRS\") / \"Output\"\n",
    "output_dir = Path(\"C:/Users/jtlee/Documents/SS-TRS\") / \"Output\"\n",
    "\n",
    "output_dir.mkdir(parents=True, exist_ok=True)"
   ]
  },
  {
   "cell_type": "code",
   "execution_count": 4,
   "metadata": {},
   "outputs": [],
   "source": [
    "# Connect to outlook\n",
    "\n",
    "outlook = win32com.client.Dispatch(\"Outlook.Application\").GetNamespace(\"MAPI\")"
   ]
  },
  {
   "cell_type": "code",
   "execution_count": 25,
   "metadata": {},
   "outputs": [],
   "source": [
    "# Connect to folder\n",
    "\n",
    "# inbox = outlook.Folders(\"jtlee@dunamiscap.com\").Folders(\"Inbox/SS-TRS\")\n",
    "inbox = outlook.GetDefaultFolder(6).Folders(\"SS-TRS\")\n",
    "# https://docs.microsoft.com/en-us/office/vba/api/outlook.oldefaultfolders\n",
    "# DeletedItems=3, Outbox=4, SentMail=5, Inbox=6, Drafts=16, FolderJunk=23"
   ]
  },
  {
   "cell_type": "code",
   "execution_count": 26,
   "metadata": {},
   "outputs": [],
   "source": [
    "# Get messages\n",
    "messages = inbox.Items\n",
    "\n",
    "for message in messages:\n",
    "    subject = message.Subject\n",
    "    body = message.body\n",
    "    attachments = message.Attachments\n",
    "\n",
    "    # Create separate folder for each message\n",
    "    target_folder = output_dir / str(subject)\n",
    "    target_folder.mkdir(parents=True, exist_ok=True)\n",
    "\n",
    "    # Write body to text file\n",
    "    Path(target_folder / \"EMAIL_BODY.txt\").write_text(str(body))\n",
    "\n",
    "    # Save attachments\n",
    "    for attachment in attachments:\n",
    "        attachment.SaveAsFile(target_folder / str(attachment))"
   ]
  }
 ],
 "metadata": {
  "kernelspec": {
   "display_name": "Python 3.9.0 32-bit",
   "language": "python",
   "name": "python3"
  },
  "language_info": {
   "codemirror_mode": {
    "name": "ipython",
    "version": 3
   },
   "file_extension": ".py",
   "mimetype": "text/x-python",
   "name": "python",
   "nbconvert_exporter": "python",
   "pygments_lexer": "ipython3",
   "version": "3.9.0"
  },
  "orig_nbformat": 4,
  "vscode": {
   "interpreter": {
    "hash": "8579af7ac4b619c1ff9c21d522b2628fe82b49ca1810dac575e63d57c7a67b1f"
   }
  }
 },
 "nbformat": 4,
 "nbformat_minor": 2
}
