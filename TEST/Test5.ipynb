{
 "cells": [
  {
   "cell_type": "code",
   "execution_count": 52,
   "metadata": {},
   "outputs": [],
   "source": [
    "import os\n",
    "import shutil"
   ]
  },
  {
   "cell_type": "code",
   "execution_count": 53,
   "metadata": {},
   "outputs": [],
   "source": [
    "open_position = r\"Z:/03.고유/001.Ops/삼성증권 TRS01 거래/07. Test/잔고보고서\"\n",
    "new_transaction = r\"Z:/03.고유/001.Ops/삼성증권 TRS01 거래/07. Test/신규거래\"\n",
    "unwind_transaction = r\"Z:/03.고유/001.Ops/삼성증권 TRS01 거래/07. Test/청산거래\"\n",
    "mid_settle_transaction = r\"Z:/03.고유/001.Ops/삼성증권 TRS01 거래/07. Test/정산거래\"\n",
    "\n",
    "data_reservoir = r\"Z:/03.고유/001.Ops/삼성증권 TRS01 거래/07. Test/Data Reservoir\""
   ]
  },
  {
   "cell_type": "code",
   "execution_count": 54,
   "metadata": {},
   "outputs": [],
   "source": [
    "open_position_files = os.listdir(open_position)\n",
    "new_transaction_files = os.listdir(new_transaction)\n",
    "unwind_transaction_files = os.listdir(unwind_transaction)\n",
    "mid_settle_transaction_files = os.listdir(mid_settle_transaction)\n",
    "\n",
    "if not os.path.exists(data_reservoir):\n",
    "    os.mkdir(data_reservoir)"
   ]
  },
  {
   "cell_type": "code",
   "execution_count": 55,
   "metadata": {},
   "outputs": [
    {
     "name": "stdout",
     "output_type": "stream",
     "text": [
      "Open position file copy completed\n",
      "New trasaction file copy completed\n",
      "Unwind transaction file copy completed\n",
      "Mid settle transaction file copy completed\n"
     ]
    }
   ],
   "source": [
    "for file in open_position_files:\n",
    "    if 'xlsx' in file:\n",
    "        shutil.copy(open_position+\"/\"+file, data_reservoir+\"/\"+file)\n",
    "print(\"Open position file copy completed\")\n",
    "\n",
    "for file in new_transaction_files:\n",
    "    if 'xlsx' in file:\n",
    "        shutil.copy(new_transaction+\"/\"+file, data_reservoir+\"/\"+file)\n",
    "print(\"New trasaction file copy completed\")\n",
    "\n",
    "for file in unwind_transaction_files:\n",
    "    if 'xlsx' in file:\n",
    "        shutil.copy(unwind_transaction+\"/\"+file, data_reservoir+\"/\"+file)\n",
    "print(\"Unwind transaction file copy completed\")\n",
    "\n",
    "for file in mid_settle_transaction_files:\n",
    "    if 'xlsx' in file:\n",
    "        shutil.copy(mid_settle_transaction+\"/\"+file, data_reservoir+\"/\"+file)\n",
    "print(\"Mid settle transaction file copy completed\")"
   ]
  },
  {
   "cell_type": "code",
   "execution_count": 12,
   "metadata": {},
   "outputs": [
    {
     "name": "stdout",
     "output_type": "stream",
     "text": [
      "{'info': [{'account': '2274834', 'currency': 'XBt', 'riskLimit': '1000000000000', 'amount': '0', 'grossComm': '0', 'grossOpenCost': '0', 'grossOpenPremium': '0', 'grossMarkValue': '0', 'riskValue': '0', 'initMargin': '0', 'maintMargin': '0', 'targetExcessMargin': '0', 'realisedPnl': '0', 'unrealisedPnl': '0', 'walletBalance': '0', 'marginBalance': '0', 'marginLeverage': '0', 'marginUsedPcnt': '0', 'excessMargin': '0', 'availableMargin': '0', 'withdrawableMargin': '0', 'timestamp': '2024-12-20T12:00:00.293Z', 'foreignMarginBalance': '0', 'foreignRequirement': '0'}], 'BTC': {'free': 0.0, 'used': 0.0, 'total': 0.0}, 'free': {'BTC': 0.0}, 'used': {'BTC': 0.0}, 'total': {'BTC': 0.0}}\n"
     ]
    }
   ],
   "source": [
    "import ccxt\n",
    "\n",
    "# API 키와 시크릿 설정\n",
    "exchange = ccxt.bitmex({\n",
    "    'apiKey': '1RrHBY857h6FXGVo3iO98Mak',\n",
    "    'secret': 'wR9jt38LpVNeFAD283Pi98i4ZpF_o15wJj_ZzDC6zkzG5u9C',\n",
    "})\n",
    "\n",
    "# 계정 정보 확인\n",
    "try:\n",
    "    account_info = exchange.fetch_balance()\n",
    "    print(account_info)\n",
    "except Exception as e:\n",
    "    print(f\"Error: {e}\")"
   ]
  },
  {
   "cell_type": "code",
   "execution_count": 29,
   "metadata": {},
   "outputs": [
    {
     "name": "stdout",
     "output_type": "stream",
     "text": [
      "{'publicAPI': True, 'privateAPI': True, 'CORS': None, 'sandbox': True, 'spot': True, 'margin': False, 'swap': True, 'future': True, 'option': False, 'addMargin': None, 'borrowCrossMargin': None, 'borrowIsolatedMargin': None, 'borrowMargin': None, 'cancelAllOrders': True, 'cancelAllOrdersWs': None, 'cancelOrder': True, 'cancelOrderWs': None, 'cancelOrders': True, 'cancelOrdersWs': None, 'closeAllPositions': False, 'closePosition': True, 'createDepositAddress': None, 'createLimitBuyOrder': None, 'createLimitBuyOrderWs': None, 'createLimitOrder': True, 'createLimitOrderWs': None, 'createLimitSellOrder': None, 'createLimitSellOrderWs': None, 'createMarketBuyOrder': None, 'createMarketBuyOrderWs': None, 'createMarketBuyOrderWithCost': None, 'createMarketBuyOrderWithCostWs': None, 'createMarketOrder': True, 'createMarketOrderWs': True, 'createMarketOrderWithCost': None, 'createMarketOrderWithCostWs': None, 'createMarketSellOrder': None, 'createMarketSellOrderWs': None, 'createMarketSellOrderWithCost': None, 'createMarketSellOrderWithCostWs': None, 'createOrder': True, 'createOrderWs': None, 'createOrders': None, 'createOrderWithTakeProfitAndStopLoss': None, 'createOrderWithTakeProfitAndStopLossWs': None, 'createPostOnlyOrder': None, 'createPostOnlyOrderWs': None, 'createReduceOnlyOrder': True, 'createReduceOnlyOrderWs': None, 'createStopLimitOrder': None, 'createStopLimitOrderWs': None, 'createStopLossOrder': None, 'createStopLossOrderWs': None, 'createStopMarketOrder': None, 'createStopMarketOrderWs': None, 'createStopOrder': None, 'createStopOrderWs': None, 'createTakeProfitOrder': None, 'createTakeProfitOrderWs': None, 'createTrailingAmountOrder': True, 'createTrailingAmountOrderWs': None, 'createTrailingPercentOrder': None, 'createTrailingPercentOrderWs': None, 'createTriggerOrder': None, 'createTriggerOrderWs': None, 'deposit': None, 'editOrder': True, 'editOrderWs': None, 'fetchAccounts': None, 'fetchBalance': True, 'fetchBalanceWs': None, 'fetchBidsAsks': None, 'fetchBorrowInterest': None, 'fetchBorrowRate': None, 'fetchBorrowRateHistories': None, 'fetchBorrowRateHistory': None, 'fetchBorrowRates': None, 'fetchBorrowRatesPerSymbol': None, 'fetchCanceledAndClosedOrders': None, 'fetchCanceledOrders': None, 'fetchClosedOrder': None, 'fetchClosedOrders': True, 'fetchClosedOrdersWs': None, 'fetchConvertCurrencies': None, 'fetchConvertQuote': None, 'fetchConvertTrade': None, 'fetchConvertTradeHistory': None, 'fetchCrossBorrowRate': None, 'fetchCrossBorrowRates': None, 'fetchCurrencies': True, 'fetchCurrenciesWs': 'emulated', 'fetchDeposit': None, 'fetchDepositAddress': True, 'fetchDepositAddresses': False, 'fetchDepositAddressesByNetwork': False, 'fetchDeposits': None, 'fetchDepositsWithdrawals': 'emulated', 'fetchDepositsWs': None, 'fetchDepositWithdrawFee': 'emulated', 'fetchDepositWithdrawFees': True, 'fetchFundingHistory': False, 'fetchFundingRate': 'emulated', 'fetchFundingRateHistory': True, 'fetchFundingInterval': None, 'fetchFundingIntervals': None, 'fetchFundingRates': True, 'fetchGreeks': None, 'fetchIndexOHLCV': False, 'fetchIsolatedBorrowRate': None, 'fetchIsolatedBorrowRates': None, 'fetchMarginAdjustmentHistory': False, 'fetchIsolatedPositions': None, 'fetchL2OrderBook': True, 'fetchL3OrderBook': None, 'fetchLastPrices': None, 'fetchLedger': True, 'fetchLedgerEntry': None, 'fetchLeverage': 'emulated', 'fetchLeverages': True, 'fetchLeverageTiers': False, 'fetchLiquidations': True, 'fetchLongShortRatio': None, 'fetchLongShortRatioHistory': None, 'fetchMarginMode': None, 'fetchMarginModes': None, 'fetchMarketLeverageTiers': False, 'fetchMarkets': True, 'fetchMarketsWs': None, 'fetchMarkOHLCV': False, 'fetchMyLiquidations': False, 'fetchMySettlementHistory': None, 'fetchMyTrades': True, 'fetchMyTradesWs': None, 'fetchOHLCV': True, 'fetchOHLCVWs': None, 'fetchOpenInterest': None, 'fetchOpenInterestHistory': None, 'fetchOpenOrder': None, 'fetchOpenOrders': True, 'fetchOpenOrdersWs': None, 'fetchOption': None, 'fetchOptionChain': None, 'fetchOrder': True, 'fetchOrderBook': True, 'fetchOrderBooks': None, 'fetchOrderBookWs': None, 'fetchOrders': True, 'fetchOrdersByStatus': None, 'fetchOrdersWs': None, 'fetchOrderTrades': None, 'fetchOrderWs': None, 'fetchPosition': False, 'fetchPositionHistory': False, 'fetchPositionsHistory': False, 'fetchPositionWs': None, 'fetchPositionMode': None, 'fetchPositions': True, 'fetchPositionsWs': None, 'fetchPositionsForSymbol': None, 'fetchPositionsForSymbolWs': None, 'fetchPositionsRisk': False, 'fetchPremiumIndexOHLCV': False, 'fetchSettlementHistory': None, 'fetchStatus': None, 'fetchTicker': True, 'fetchTickerWs': None, 'fetchTickers': True, 'fetchMarkPrices': None, 'fetchTickersWs': None, 'fetchTime': None, 'fetchTrades': True, 'fetchTradesWs': None, 'fetchTradingFee': None, 'fetchTradingFees': None, 'fetchTradingFeesWs': None, 'fetchTradingLimits': None, 'fetchTransactionFee': None, 'fetchTransactionFees': None, 'fetchTransactions': 'emulated', 'fetchTransfer': False, 'fetchTransfers': False, 'fetchUnderlyingAssets': None, 'fetchVolatilityHistory': None, 'fetchWithdrawAddresses': None, 'fetchWithdrawal': None, 'fetchWithdrawals': None, 'fetchWithdrawalsWs': None, 'fetchWithdrawalWhitelist': None, 'reduceMargin': None, 'repayCrossMargin': None, 'repayIsolatedMargin': None, 'setLeverage': True, 'setMargin': None, 'setMarginMode': True, 'setPositionMode': False, 'signIn': None, 'transfer': False, 'watchBalance': None, 'watchMyTrades': None, 'watchOHLCV': None, 'watchOHLCVForSymbols': None, 'watchOrderBook': None, 'watchOrderBookForSymbols': None, 'watchOrders': None, 'watchOrdersForSymbols': None, 'watchPosition': None, 'watchPositions': None, 'watchStatus': None, 'watchTicker': None, 'watchTickers': None, 'watchTrades': None, 'watchTradesForSymbols': None, 'watchLiquidations': None, 'watchLiquidationsForSymbols': None, 'watchMyLiquidations': None, 'watchMyLiquidationsForSymbols': None, 'withdraw': True, 'ws': None, 'cancelAllOrdersAfter': True}\n"
     ]
    }
   ],
   "source": [
    "import ccxt\n",
    "from tabulate import tabulate\n",
    "\n",
    "exchange = ccxt.bitmex({\n",
    "    'apiKey': 'Oh78RlN2sIGUYYN05i595jw2',\n",
    "    'secret': '-HwtPs33XepJndRtkaESiJK6o9MIcNm7Lw0wlGPEVRGChj79',\n",
    "})\n",
    "\n",
    "try:\n",
    "    balance = exchange.fetch_balance()\n",
    "    # print(balance)  # 읽기 권한이 있다면 출력\n",
    "    # print(tabulate(exchange.has, headers = 'keys', tablefmt = 'pretty'))\n",
    "    print(exchange.has)\n",
    "except Exception as e:\n",
    "    print(f\"Error: {e}\")"
   ]
  }
 ],
 "metadata": {
  "kernelspec": {
   "display_name": "Python 3.9.0 32-bit",
   "language": "python",
   "name": "python3"
  },
  "language_info": {
   "codemirror_mode": {
    "name": "ipython",
    "version": 3
   },
   "file_extension": ".py",
   "mimetype": "text/x-python",
   "name": "python",
   "nbconvert_exporter": "python",
   "pygments_lexer": "ipython3",
   "version": "3.9.0"
  },
  "orig_nbformat": 4,
  "vscode": {
   "interpreter": {
    "hash": "8579af7ac4b619c1ff9c21d522b2628fe82b49ca1810dac575e63d57c7a67b1f"
   }
  }
 },
 "nbformat": 4,
 "nbformat_minor": 2
}
