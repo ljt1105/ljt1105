{
 "cells": [
  {
   "cell_type": "markdown",
   "metadata": {},
   "source": [
    "Crypto_Fund 월간 대사\n",
    "1. Daily PnL 일치여부 확인\n",
    "    1) WalletHistory(From 성현)에서 Daily PnL 추출\n",
    "        (1) 일자 순서가 거꾸로 되어있으므로 정렬 필요\n",
    "    2) Securities P-L realised(From Precision)에서 Daily PnL 추출\n",
    "        (1) Trade 건별로 PnL이 인식되어 있어서 같은 일자의 PnL을 모두 합산\n",
    "2. 월말 잔고 일치여부 확인\n",
    "    1) 계좌별 WalletHistory(From 성현)에서 월말 wallet_balance 추출\n",
    "    2) Trial Balance with movements(From Precision)에서 각 계좌별로 Cash Assets 합산\n",
    "        (1) XBT2\n",
    "        (2) BMEX2\n",
    "        (3) USDT2\n",
    "        (4) USD\n",
    "    3) 일치여부 확인\n",
    "3. 월말 포지션 일치여부 확인\n",
    "    1) 계좌별 ExecutionHistory(From 성현)에서 월말 position_quantity 추출\n",
    "    2) Portfolio overview(From Precision)에서 계좌별 position칼럼 추출\n",
    "    3) 일치여부 확인"
   ]
  },
  {
   "cell_type": "code",
   "execution_count": null,
   "metadata": {},
   "outputs": [],
   "source": [
    "import numpy as np\n",
    "import pandas as pd\n",
    "import datetime"
   ]
  },
  {
   "cell_type": "code",
   "execution_count": null,
   "metadata": {},
   "outputs": [],
   "source": []
  }
 ],
 "metadata": {
  "kernelspec": {
   "display_name": "Python 3.9.0 32-bit",
   "language": "python",
   "name": "python3"
  },
  "language_info": {
   "name": "python",
   "version": "3.9.0"
  },
  "orig_nbformat": 4,
  "vscode": {
   "interpreter": {
    "hash": "8579af7ac4b619c1ff9c21d522b2628fe82b49ca1810dac575e63d57c7a67b1f"
   }
  }
 },
 "nbformat": 4,
 "nbformat_minor": 2
}
