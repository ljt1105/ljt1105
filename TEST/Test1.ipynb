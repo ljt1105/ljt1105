{
 "cells": [
  {
   "cell_type": "code",
   "execution_count": 16,
   "metadata": {},
   "outputs": [],
   "source": [
    "import datetime\n",
    "import os\n",
    "import win32com.client"
   ]
  },
  {
   "cell_type": "code",
   "execution_count": 17,
   "metadata": {},
   "outputs": [],
   "source": [
    "path = os.path.expanduser(\"~OneDrive - DUNAMIS INVESTMENT ADVISORY\\문서\\SS-TRS\")\n",
    "today = datetime.date.today()"
   ]
  },
  {
   "cell_type": "code",
   "execution_count": 18,
   "metadata": {},
   "outputs": [],
   "source": [
    "outlook = win32com.client.Dispatch(\"Outlook.Application\").GetNamespace(\"MAPI\")\n",
    "inbox = outlook.GetDefaultFolder(6).Folders(\"SS-TRS\")\n",
    "messages = inbox.Items"
   ]
  },
  {
   "cell_type": "code",
   "execution_count": 19,
   "metadata": {},
   "outputs": [
    {
     "ename": "SyntaxError",
     "evalue": "invalid syntax (3668336474.py, line 4)",
     "output_type": "error",
     "traceback": [
      "\u001b[1;36m  Cell \u001b[1;32mIn [19], line 4\u001b[1;36m\u001b[0m\n\u001b[1;33m    if message.Subject == subject\u001b[0m\n\u001b[1;37m                                 ^\u001b[0m\n\u001b[1;31mSyntaxError\u001b[0m\u001b[1;31m:\u001b[0m invalid syntax\n"
     ]
    }
   ],
   "source": [
    "def saveattachment(subject):\n",
    "    for message in messages:\n",
    "        # if message.Subject == subject and message.Unread or message.Senton.date() == today:\n",
    "        if message.Subject == subject\n",
    "            # body_content = message.body\n",
    "            attachments == message.Attachments\n",
    "            attachment = attachments.Item(1)\n",
    "            for attachment in message.Attachments:\n",
    "                attachment.SaveAsFile(os.path.join(path, str(attachment)))\n",
    "                if message.Subject == subject and message.Unread:\n",
    "                    message.Unread = False\n",
    "                break"
   ]
  }
 ],
 "metadata": {
  "kernelspec": {
   "display_name": "Python 3.9.0 32-bit",
   "language": "python",
   "name": "python3"
  },
  "language_info": {
   "codemirror_mode": {
    "name": "ipython",
    "version": 3
   },
   "file_extension": ".py",
   "mimetype": "text/x-python",
   "name": "python",
   "nbconvert_exporter": "python",
   "pygments_lexer": "ipython3",
   "version": "3.9.0"
  },
  "orig_nbformat": 4,
  "vscode": {
   "interpreter": {
    "hash": "8579af7ac4b619c1ff9c21d522b2628fe82b49ca1810dac575e63d57c7a67b1f"
   }
  }
 },
 "nbformat": 4,
 "nbformat_minor": 2
}
