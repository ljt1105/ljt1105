{
 "cells": [
  {
   "cell_type": "code",
   "execution_count": 3,
   "metadata": {},
   "outputs": [],
   "source": [
    "from apscheduler.schedulers.blocking import BlockingScheduler\n",
    "from pathlib import Path\n",
    "import os\n",
    "import win32com.client"
   ]
  },
  {
   "cell_type": "code",
   "execution_count": 4,
   "metadata": {},
   "outputs": [],
   "source": [
    "output_dir = Path(\"Z:/02.펀드/003.매매보고서 대사/KB\")\n",
    "\n",
    "output_dir.mkdir(parents=True, exist_ok=True)\n",
    "\n",
    "outlook = win32com.client.Dispatch(\"outlook.application\").GetNamespace(\"MAPI\")\n",
    "\n",
    "inbox = outlook.GetDefaultFolder(6).Folders(\"KB-PBS\")\n",
    "\n",
    "messages = inbox.Items\n",
    "\n",
    "for message in messages:\n",
    "    attachments = message.Attachments\n",
    "\n",
    "    target_folder = output_dir\n",
    "    target_folder.mkdir(parents=True, exist_ok=True)\n",
    "\n",
    "    for attachment in attachments:\n",
    "        attachment.SaveAsFile(target_folder / str(attachment))\n",
    "\n",
    "print(\"KB-PBS Trade report download complete\")"
   ]
  },
  {
   "cell_type": "code",
   "execution_count": 7,
   "metadata": {},
   "outputs": [
    {
     "name": "stdout",
     "output_type": "stream",
     "text": [
      "NH Trade report download complete\n"
     ]
    }
   ],
   "source": [
    "output_dir = Path(\"Z:/02.펀드/003.매매보고서 대사/NH\")\n",
    "\n",
    "output_dir.mkdir(parents=True, exist_ok=True)\n",
    "\n",
    "outlook = win32com.client.Dispatch(\"outlook.application\").GetNamespace(\"MAPI\")\n",
    "\n",
    "inbox = outlook.GetDefaultFolder(6).Folders(\"NH\")\n",
    "\n",
    "messages = inbox.Items\n",
    "\n",
    "for message in messages:\n",
    "    attachments = message.Attachments\n",
    "\n",
    "    target_folder = output_dir\n",
    "    target_folder.mkdir(parents=True, exist_ok=True)\n",
    "\n",
    "    for attachment in attachments:\n",
    "        attachment.SaveAsFile(target_folder / str(attachment))\n",
    "\n",
    "print(\"NH Trade report download complete\")"
   ]
  },
  {
   "cell_type": "code",
   "execution_count": 8,
   "metadata": {},
   "outputs": [
    {
     "name": "stdout",
     "output_type": "stream",
     "text": [
      "KIS Trade report download complete\n"
     ]
    }
   ],
   "source": [
    "output_dir = Path(\"Z:/02.펀드/003.매매보고서 대사/KIS\")\n",
    "\n",
    "output_dir.mkdir(parents=True, exist_ok=True)\n",
    "\n",
    "outlook = win32com.client.Dispatch(\"outlook.application\").GetNamespace(\"MAPI\")\n",
    "\n",
    "inbox = outlook.GetDefaultFolder(6).Folders(\"KIS-PBS\")\n",
    "\n",
    "messages = inbox.Items\n",
    "\n",
    "for message in messages:\n",
    "    attachments = message.Attachments\n",
    "\n",
    "    target_folder = output_dir\n",
    "    target_folder.mkdir(parents=True, exist_ok=True)\n",
    "\n",
    "    for attachment in attachments:\n",
    "        attachment.SaveAsFile(target_folder / str(attachment))\n",
    "\n",
    "print(\"KIS Trade report download complete\")"
   ]
  },
  {
   "cell_type": "code",
   "execution_count": 9,
   "metadata": {},
   "outputs": [
    {
     "name": "stdout",
     "output_type": "stream",
     "text": [
      "Yuanta Trade report download complete\n"
     ]
    }
   ],
   "source": [
    "output_dir = Path(\"Z:/02.펀드/003.매매보고서 대사/Yuanta\")\n",
    "\n",
    "output_dir.mkdir(parents=True, exist_ok=True)\n",
    "\n",
    "outlook = win32com.client.Dispatch(\"outlook.application\").GetNamespace(\"MAPI\")\n",
    "\n",
    "inbox = outlook.GetDefaultFolder(6).Folders(\"Yuanta\")\n",
    "\n",
    "messages = inbox.Items\n",
    "\n",
    "for message in messages:\n",
    "    attachments = message.Attachments\n",
    "\n",
    "    target_folder = output_dir\n",
    "    target_folder.mkdir(parents=True, exist_ok=True)\n",
    "\n",
    "    for attachment in attachments:\n",
    "        attachment.SaveAsFile(target_folder / str(attachment))\n",
    "\n",
    "print(\"Yuanta Trade report download complete\")"
   ]
  },
  {
   "cell_type": "code",
   "execution_count": 11,
   "metadata": {},
   "outputs": [
    {
     "name": "stdout",
     "output_type": "stream",
     "text": [
      "MiraeAsset Trade report download complete\n"
     ]
    }
   ],
   "source": [
    "output_dir = Path(\"Z:/02.펀드/003.매매보고서 대사/MiraeAsset\")\n",
    "\n",
    "output_dir.mkdir(parents=True, exist_ok=True)\n",
    "\n",
    "outlook = win32com.client.Dispatch(\"outlook.application\").GetNamespace(\"MAPI\")\n",
    "\n",
    "inbox = outlook.GetDefaultFolder(6).Folders(\"MiraeAsset\")\n",
    "\n",
    "messages = inbox.Items\n",
    "\n",
    "for message in messages:\n",
    "    attachments = message.Attachments\n",
    "\n",
    "    target_folder = output_dir\n",
    "    target_folder.mkdir(parents=True, exist_ok=True)\n",
    "\n",
    "    for attachment in attachments:\n",
    "        attachment.SaveAsFile(target_folder / str(attachment))\n",
    "\n",
    "print(\"MiraeAsset Trade report download complete\")"
   ]
  }
 ],
 "metadata": {
  "kernelspec": {
   "display_name": "Python 3.9.0 32-bit",
   "language": "python",
   "name": "python3"
  },
  "language_info": {
   "codemirror_mode": {
    "name": "ipython",
    "version": 3
   },
   "file_extension": ".py",
   "mimetype": "text/x-python",
   "name": "python",
   "nbconvert_exporter": "python",
   "pygments_lexer": "ipython3",
   "version": "3.9.0"
  },
  "orig_nbformat": 4,
  "vscode": {
   "interpreter": {
    "hash": "8579af7ac4b619c1ff9c21d522b2628fe82b49ca1810dac575e63d57c7a67b1f"
   }
  }
 },
 "nbformat": 4,
 "nbformat_minor": 2
}
