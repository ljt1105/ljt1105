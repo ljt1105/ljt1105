{
 "cells": [
  {
   "cell_type": "code",
   "execution_count": 9,
   "metadata": {},
   "outputs": [
    {
     "name": "stdout",
     "output_type": "stream",
     "text": [
      "['삼성TRS', 'ATT00001.gif', '신규거래', '잔고보고서', '청산거래', '정산거래']\n",
      "{'ATT00001.gif': 'ATT00001.gif', '삼성TRS': '삼성TRS', '신규거래': '신규거래', '신규거래_주식_DNMS_20221013.xlsx': '신규거래', '신규거래_주식_DNMS_20221018.xlsx': '신규거래', '잔고보고서': '잔고보고서', '잔고보고서_손익_DNMS_20221013.xlsx': '잔고보고서', '잔고보고서_손익_DNMS_20221014.xlsx': '잔고보고서', '잔고보고서_손익_DNMS_20221017.xlsx': '잔고보고서', '잔고보고서_손익_DNMS_20221018.xlsx': '잔고보고서', '잔고보고서_손익_DNMS_20221019.xlsx': '잔고보고서', '잔고보고서_손익_DNMS_20221020.xlsx': '잔고보고서', '잔고보고서_손익_DNMS_20221021.xlsx': '잔고보고서', '잔고보고서_손익_DNMS_20221024.xlsx': '잔고보고서', '잔고보고서_손익_DNMS_20221025.xlsx': '잔고보고서', '잔고보고서_손익_DNMS_20221026.xlsx': '잔고보고서', '잔고보고서_손익_DNMS_20221027.xlsx': '잔고보고서', '잔고보고서_손익_DNMS_20221028.xlsx': '잔고보고서', '잔고보고서_손익_DNMS_20221031.xlsx': '잔고보고서', '잔고보고서_손익_DNMS_20221101.xlsx': '잔고보고서', '잔고보고서_손익_DNMS_20221102.xlsx': '잔고보고서', '잔고보고서_손익_DNMS_20221103.xlsx': '잔고보고서', '잔고보고서_손익_DNMS_20221104.xlsx': '잔고보고서', '잔고보고서_손익_DNMS_20221107.xlsx': '잔고보고서', '잔고보고서_손익_DNMS_20221108.xlsx': '잔고보고서', '잔고보고서_손익_DNMS_20221109.xlsx': '잔고보고서', '잔고보고서_손익_DNMS_20221110.xlsx': '잔고보고서', '잔고보고서_손익_DNMS_20221111.xlsx': '잔고보고서', '잔고보고서_손익_DNMS_20221114.xlsx': '잔고보고서', '잔고보고서_손익_DNMS_20221115.xlsx': '잔고보고서', '잔고보고서_손익_DNMS_20221116.xlsx': '잔고보고서', '잔고보고서_손익_DNMS_20221117.xlsx': '잔고보고서', '잔고보고서_손익_DNMS_20221118.xlsx': '잔고보고서', '잔고보고서_손익_DNMS_20221121.xlsx': '잔고보고서', '잔고보고서_손익_DNMS_20221122.xlsx': '잔고보고서', '잔고보고서_손익_DNMS_20221123.xlsx': '잔고보고서', '잔고보고서_손익_DNMS_20221124.xlsx': '잔고보고서', '잔고보고서_손익_DNMS_20221125.xlsx': '잔고보고서', '잔고보고서_손익_DNMS_20221128.xlsx': '잔고보고서', '잔고보고서_손익_DNMS_20221129.xlsx': '잔고보고서', '잔고보고서_손익_DNMS_20221130.xlsx': '잔고보고서', '잔고보고서_손익_DNMS_20221201.xlsx': '잔고보고서', '잔고보고서_손익_DNMS_20221202.xlsx': '잔고보고서', '잔고보고서_손익_DNMS_20221205.xlsx': '잔고보고서', '잔고보고서_손익_DNMS_20221206.xlsx': '잔고보고서', '정산거래': '정산거래', '정산거래_주식_DNMS_20221107.xlsx': '정산거래', '정산거래_주식_DNMS_20221205.xlsx': '정산거래', '청산거래': '청산거래', '청산거래_주식_DNMS_20221014.xlsx': '청산거래', '청산거래_주식_DNMS_20221026.xlsx': '청산거래', '청산거래_주식_DNMS_20221031.xlsx': '청산거래', '청산거래_주식_DNMS_20221102.xlsx': '청산거래', '청산거래_주식_DNMS_20221108.xlsx': '청산거래', '청산거래_주식_DNMS_20221111.xlsx': '청산거래', '청산거래_주식_DNMS_20221123.xlsx': '청산거래', '청산거래_주식_DNMS_20221129.xlsx': '청산거래'}\n"
     ]
    }
   ],
   "source": [
    "#folder_move\n",
    "import os #파일명, 폴더명 정보를 읽어오기 위한 모듈\n",
    "import shutil #파일 이동을 위한 모듈\n",
    "\n",
    "#파일명을 읽어와서 파일명의 분류 부분을 중복없이 리스트화\n",
    "def fileList(path_before : str)->list :\n",
    "    file_list = os.listdir(path_before) #폴더의 파일명을 리스트화\n",
    "    category = [] #분류 데이터 저장을 위해 빈 리스트 생성\n",
    "    for file in file_list:\n",
    "        temp_list = file.split(\"_\") #파일명중 \"_\"로 분리하여 리스트화\n",
    "        category.append(temp_list[0]) #리스트의 -2 인덱싱 데이터를 category에 추가\n",
    "\n",
    "    temp_set = set(category) #중복을 제거하기 위해 set 사용\n",
    "    result = list(temp_set) #중복 제거 후 다시 리스트화\n",
    "    print(result)\n",
    "    return result #결과 리턴\n",
    "\n",
    "\n",
    "#죄 분류 리스트를 받아와서 정해진 위치에 폴더 생성\n",
    "def makeFolder(path_after : str, file_list : list):    \n",
    "    #폴더가 이미 생성되어있다면 오류가 발생하므로 예외처리 진행\n",
    "    for file in file_list:\n",
    "        try:\n",
    "            os.makedirs(path_after+\"/\"+file)\n",
    "        except:\n",
    "            pass\n",
    "\n",
    "#파일을 폴더 분류에 맞게 이동\n",
    "def moveFile(path_before, path_after):\n",
    "    folderlist = os.listdir(path_after)\n",
    "    filelist = os.listdir(path_before)\n",
    "    dict = {}\n",
    "\n",
    "    #파일명에 대한 폴더명을 딕셔너리로 저장\n",
    "    for file in filelist:\n",
    "        temp_list = file.split(\"_\")\n",
    "        dict[file]=temp_list[0]\n",
    "     \n",
    "    print(dict)\n",
    "    \n",
    "    #딕셔너리 정보 활용하여 파일 이동\n",
    "    for key, value in dict.items():\n",
    "        # shutil.move(path_before+\"/\"+key, path_after+\"/\"+value)\n",
    "        try:\n",
    "            shutil.move(path_before+\"/\"+key, path_after+\"/\"+value)\n",
    "        except:\n",
    "            pass\n",
    "    \n",
    "    \n",
    "if __name__ == \"__main__\" :\n",
    "    #분류할 파일이 있는 위치 폴더\n",
    "    path_before = r\"Z:\\03.고유\\001.Ops\\삼성증권 TRS01 거래\\07. Test\"\n",
    "    file_list = fileList(path_before)\n",
    "\n",
    "    #옮길 경로 폴더\n",
    "    path_after = r\"Z:\\03.고유\\001.Ops\\삼성증권 TRS01 거래\\07. Test\"\n",
    "    makeFolder(path_after, file_list)\n",
    "    moveFile(path_before, path_after)"
   ]
  }
 ],
 "metadata": {
  "kernelspec": {
   "display_name": "Python 3.9.0 32-bit",
   "language": "python",
   "name": "python3"
  },
  "language_info": {
   "codemirror_mode": {
    "name": "ipython",
    "version": 3
   },
   "file_extension": ".py",
   "mimetype": "text/x-python",
   "name": "python",
   "nbconvert_exporter": "python",
   "pygments_lexer": "ipython3",
   "version": "3.9.0"
  },
  "orig_nbformat": 4,
  "vscode": {
   "interpreter": {
    "hash": "8579af7ac4b619c1ff9c21d522b2628fe82b49ca1810dac575e63d57c7a67b1f"
   }
  }
 },
 "nbformat": 4,
 "nbformat_minor": 2
}
