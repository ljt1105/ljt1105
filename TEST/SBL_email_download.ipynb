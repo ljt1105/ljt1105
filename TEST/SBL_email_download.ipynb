{
 "cells": [
  {
   "cell_type": "code",
   "execution_count": 10,
   "metadata": {},
   "outputs": [],
   "source": [
    "from pathlib import Path\n",
    "import os\n",
    "import win32com.client\n",
    "import datetime\n",
    "import re"
   ]
  },
  {
   "cell_type": "code",
   "execution_count": 11,
   "metadata": {},
   "outputs": [
    {
     "name": "stdout",
     "output_type": "stream",
     "text": [
      "SBL report download complete\n"
     ]
    }
   ],
   "source": [
    "def SBL_report_download():\n",
    "    output_dir = Path(\"Z:/02.펀드/007.대차거래(보관의무)\")\n",
    "    output_dir.mkdir(parents=True, exist_ok=True)\n",
    "    outlook = win32com.client.Dispatch(\"Outlook.Application\")\n",
    "    namespace = outlook.GetNamespace(\"MAPI\")\n",
    "    inbox = namespace.GetDefaultFolder(6).Folders(\"DIRECTIONAL\")\n",
    "    messages = inbox.Items\n",
    "\n",
    "    for message in messages:\n",
    "        if message.Unread:\n",
    "            subject = re.sub(r'[:<>]', '_', message.Subject)\n",
    "            received_date = message.ReceivedTime\n",
    "            timestamp = received_date.strftime(\"%Y%m%d_%H%M%S\")\n",
    "            new_subject = f\"{subject}_{timestamp}\"\n",
    "\n",
    "            message.SaveAs(output_dir / f\"{new_subject}.msg\")\n",
    "            message.Unread = False\n",
    "\n",
    "    print(\"SBL report download complete\")\n",
    "\n",
    "SBL_report_download()"
   ]
  }
 ],
 "metadata": {
  "kernelspec": {
   "display_name": "Python 3.9.0 32-bit",
   "language": "python",
   "name": "python3"
  },
  "language_info": {
   "codemirror_mode": {
    "name": "ipython",
    "version": 3
   },
   "file_extension": ".py",
   "mimetype": "text/x-python",
   "name": "python",
   "nbconvert_exporter": "python",
   "pygments_lexer": "ipython3",
   "version": "3.9.0"
  },
  "orig_nbformat": 4,
  "vscode": {
   "interpreter": {
    "hash": "8579af7ac4b619c1ff9c21d522b2628fe82b49ca1810dac575e63d57c7a67b1f"
   }
  }
 },
 "nbformat": 4,
 "nbformat_minor": 2
}
